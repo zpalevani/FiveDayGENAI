{
  "metadata": {
    "kernelspec": {
      "name": "python3",
      "display_name": "Python 3",
      "language": "python"
    },
    "language_info": {
      "name": "python",
      "version": "3.10.14",
      "mimetype": "text/x-python",
      "codemirror_mode": {
        "name": "ipython",
        "version": 3
      },
      "pygments_lexer": "ipython3",
      "nbconvert_exporter": "python",
      "file_extension": ".py"
    },
    "colab": {
      "toc_visible": true,
      "name": "Day 4 - Fine tuning a custom model",
      "provenance": [],
      "include_colab_link": true
    },
    "kaggle": {
      "accelerator": "none",
      "dataSources": [],
      "dockerImageVersionId": 30786,
      "isInternetEnabled": true,
      "language": "python",
      "sourceType": "notebook",
      "isGpuEnabled": false
    }
  },
  "nbformat_minor": 0,
  "nbformat": 4,
  "cells": [
    {
      "cell_type": "markdown",
      "metadata": {
        "id": "view-in-github",
        "colab_type": "text"
      },
      "source": [
        "<a href=\"https://colab.research.google.com/github/zpalevani/FiveDayGENAI/blob/main/Day_4_Fine_tuning_a_custom_model.ipynb\" target=\"_parent\"><img src=\"https://colab.research.google.com/assets/colab-badge.svg\" alt=\"Open In Colab\"/></a>"
      ]
    },
    {
      "cell_type": "markdown",
      "source": [
        "##### Copyright 2025 Google LLC."
      ],
      "metadata": {
        "id": "b6e13eef3f5d"
      }
    },
    {
      "cell_type": "code",
      "source": [
        "# @title Licensed under the Apache License, Version 2.0 (the \"License\");\n",
        "# you may not use this file except in compliance with the License.\n",
        "# You may obtain a copy of the License at\n",
        "#\n",
        "# https://www.apache.org/licenses/LICENSE-2.0\n",
        "#\n",
        "# Unless required by applicable law or agreed to in writing, software\n",
        "# distributed under the License is distributed on an \"AS IS\" BASIS,\n",
        "# WITHOUT WARRANTIES OR CONDITIONS OF ANY KIND, either express or implied.\n",
        "# See the License for the specific language governing permissions and\n",
        "# limitations under the License."
      ],
      "metadata": {
        "cellView": "form",
        "id": "d6597b11df14",
        "jupyter": {
          "source_hidden": true
        },
        "trusted": true,
        "execution": {
          "iopub.status.busy": "2025-02-28T07:39:24.010656Z",
          "iopub.execute_input": "2025-02-28T07:39:24.011577Z",
          "iopub.status.idle": "2025-02-28T07:39:24.035703Z",
          "shell.execute_reply.started": "2025-02-28T07:39:24.011515Z",
          "shell.execute_reply": "2025-02-28T07:39:24.034263Z"
        }
      },
      "outputs": [],
      "execution_count": null
    },
    {
      "cell_type": "markdown",
      "source": [
        "# Day 4 - Fine tuning a custom model\n",
        "\n",
        "Welcome back to the Kaggle 5-day Generative AI course!\n",
        "\n",
        "In this notebook you will use the Gemini API to fine-tune a custom, task-specific model. Fine-tuning can be used for a variety of tasks from classic NLP problems like entity extraction or summarisation, to creative tasks like stylised generation. You will fine-tune a model to classify the category a piece of text (a newsgroup post) into the category it belongs to (the newsgroup name).\n",
        "\n",
        "This codelab walks you tuning a model with the API. [AI Studio](https://aistudio.google.com/app/tune) also supports creating new tuned models directly in the web UI, allowing you to quickly create and monitor models using data from Google Sheets, Drive or your own files.\n",
        "\n",
        "**Note**: We recommend doing this codelab first today. There may be a period of waiting while the model tunes, so if you start with this one, you can try the other codelab while you wait."
      ],
      "metadata": {
        "id": "4KDIFPAL2EnL"
      }
    },
    {
      "cell_type": "code",
      "source": [
        "!pip uninstall -qqy jupyterlab  # Remove unused conflicting packages\n",
        "!pip install -U -q \"google-genai==1.7.0\""
      ],
      "metadata": {
        "id": "9wafTyEH1_xF",
        "trusted": true,
        "execution": {
          "iopub.status.busy": "2025-04-02T07:48:50.513748Z",
          "iopub.execute_input": "2025-04-02T07:48:50.51413Z",
          "iopub.status.idle": "2025-04-02T07:49:10.461862Z",
          "shell.execute_reply.started": "2025-04-02T07:48:50.514097Z",
          "shell.execute_reply": "2025-04-02T07:49:10.46006Z"
        }
      },
      "outputs": [],
      "execution_count": null
    },
    {
      "cell_type": "code",
      "source": [
        "from google import genai\n",
        "from google.genai import types\n",
        "\n",
        "genai.__version__"
      ],
      "metadata": {
        "id": "T0CBG9xL2PvT",
        "trusted": true,
        "execution": {
          "iopub.status.busy": "2025-04-02T07:49:10.464654Z",
          "iopub.execute_input": "2025-04-02T07:49:10.465052Z",
          "iopub.status.idle": "2025-04-02T07:49:11.954087Z",
          "shell.execute_reply.started": "2025-04-02T07:49:10.465012Z",
          "shell.execute_reply": "2025-04-02T07:49:11.95277Z"
        }
      },
      "outputs": [],
      "execution_count": null
    },
    {
      "cell_type": "markdown",
      "source": [
        "### Set up your API key\n",
        "\n",
        "To run the following cell, your API key must be stored it in a [Kaggle secret](https://www.kaggle.com/discussions/product-feedback/114053) named `GOOGLE_API_KEY`.\n",
        "\n",
        "If you don't already have an API key, you can grab one from [AI Studio](https://aistudio.google.com/app/apikey). You can find [detailed instructions in the docs](https://ai.google.dev/gemini-api/docs/api-key).\n",
        "\n",
        "To make the key available through Kaggle secrets, choose `Secrets` from the `Add-ons` menu and follow the instructions to add your key or enable it for this notebook."
      ],
      "metadata": {
        "id": "P4bYX2T72ScK"
      }
    },
    {
      "cell_type": "code",
      "source": [
        "from kaggle_secrets import UserSecretsClient\n",
        "\n",
        "GOOGLE_API_KEY = UserSecretsClient().get_secret(\"GOOGLE_API_KEY\")\n",
        "\n",
        "client = genai.Client(api_key=GOOGLE_API_KEY)"
      ],
      "metadata": {
        "id": "VuJPY3GK2SLZ",
        "trusted": true,
        "execution": {
          "iopub.status.busy": "2025-04-02T07:49:11.955554Z",
          "iopub.execute_input": "2025-04-02T07:49:11.956072Z",
          "iopub.status.idle": "2025-04-02T07:49:12.223295Z",
          "shell.execute_reply.started": "2025-04-02T07:49:11.956035Z",
          "shell.execute_reply": "2025-04-02T07:49:12.22195Z"
        }
      },
      "outputs": [],
      "execution_count": null
    },
    {
      "cell_type": "markdown",
      "source": [
        "If you received an error response along the lines of `No user secrets exist for kernel id ...`, then you need to add your API key via `Add-ons`, `Secrets` **and** enable it.\n",
        "\n",
        "![Screenshot of the checkbox to enable GOOGLE_API_KEY secret](https://storage.googleapis.com/kaggle-media/Images/5gdai_sc_3.png)"
      ],
      "metadata": {
        "id": "25b2127c2052"
      }
    },
    {
      "cell_type": "markdown",
      "source": [
        "### Explore available models\n",
        "\n",
        "You will be using the [`TunedModel.create`](https://ai.google.dev/api/tuning#method:-tunedmodels.create) API method to start the fine-tuning job and create your custom model. Find a model that supports it through the [`models.list`](https://ai.google.dev/api/models#method:-models.list) endpoint. You can also find more information about tuning models in [the model tuning docs](https://ai.google.dev/gemini-api/docs/model-tuning/tutorial?lang=python)."
      ],
      "metadata": {
        "id": "CqVA5QFO6n4z"
      }
    },
    {
      "cell_type": "code",
      "source": [
        "for model in client.models.list():\n",
        "    if \"createTunedModel\" in model.supported_actions:\n",
        "        print(model.name)"
      ],
      "metadata": {
        "id": "coEacWAB6o0G",
        "trusted": true,
        "execution": {
          "iopub.status.busy": "2025-04-02T07:49:12.225628Z",
          "iopub.execute_input": "2025-04-02T07:49:12.225986Z",
          "iopub.status.idle": "2025-04-02T07:49:12.475683Z",
          "shell.execute_reply.started": "2025-04-02T07:49:12.225951Z",
          "shell.execute_reply": "2025-04-02T07:49:12.47424Z"
        }
      },
      "outputs": [],
      "execution_count": null
    },
    {
      "cell_type": "markdown",
      "source": [
        "## Download the dataset\n",
        "\n",
        "In this activity, you will use the same newsgroups dataset that [you used to train a classifier in Keras](https://www.kaggle.com/code/markishere/day-2-classifying-embeddings-with-keras/). In this example you will use a fine-tuned Gemini model to achieve the same goal.\n",
        "\n",
        "The [20 Newsgroups Text Dataset](https://scikit-learn.org/0.19/datasets/twenty_newsgroups.html) contains 18,000 newsgroups posts on 20 topics divided into training and test sets."
      ],
      "metadata": {
        "id": "peFm0w_0c1CO"
      }
    },
    {
      "cell_type": "code",
      "source": [
        "from sklearn.datasets import fetch_20newsgroups\n",
        "\n",
        "newsgroups_train = fetch_20newsgroups(subset=\"train\")\n",
        "newsgroups_test = fetch_20newsgroups(subset=\"test\")\n",
        "\n",
        "# View list of class names for dataset\n",
        "newsgroups_train.target_names"
      ],
      "metadata": {
        "id": "bX_kpgnQ9b-Z",
        "trusted": true,
        "execution": {
          "iopub.status.busy": "2025-04-02T07:49:12.476866Z",
          "iopub.execute_input": "2025-04-02T07:49:12.477215Z",
          "iopub.status.idle": "2025-04-02T07:49:24.294123Z",
          "shell.execute_reply.started": "2025-04-02T07:49:12.477128Z",
          "shell.execute_reply": "2025-04-02T07:49:24.292962Z"
        }
      },
      "outputs": [],
      "execution_count": null
    },
    {
      "cell_type": "markdown",
      "source": [
        "Here's what a single row looks like."
      ],
      "metadata": {
        "id": "ipafe6ptZFjt"
      }
    },
    {
      "cell_type": "code",
      "source": [
        "print(newsgroups_train.data[0])"
      ],
      "metadata": {
        "id": "EtEXcdT39hCB",
        "trusted": true,
        "execution": {
          "iopub.status.busy": "2025-04-02T07:49:24.295557Z",
          "iopub.execute_input": "2025-04-02T07:49:24.295965Z",
          "iopub.status.idle": "2025-04-02T07:49:24.301543Z",
          "shell.execute_reply.started": "2025-04-02T07:49:24.295933Z",
          "shell.execute_reply": "2025-04-02T07:49:24.300488Z"
        }
      },
      "outputs": [],
      "execution_count": null
    },
    {
      "cell_type": "markdown",
      "source": [
        "## Prepare the dataset\n",
        "\n",
        "You'll use the same pre-processing code you used for the custom model on day 2. This pre-processing removes personal information, which can be used to \"shortcut\" to known users of a forum, and formats the text to appear a bit more like regular text and less like a newsgroup post (e.g. by removing the mail headers). This normalisation allows the model to generalise to regular text and not over-depend on specific fields. If your input data is always going to be newsgroup posts, it may be helpful to leave this structure in place if they provide genuine signals."
      ],
      "metadata": {
        "id": "03lDs1O4ZQ0-"
      }
    },
    {
      "cell_type": "code",
      "source": [
        "import email\n",
        "import re\n",
        "\n",
        "import pandas as pd\n",
        "\n",
        "\n",
        "def preprocess_newsgroup_row(data):\n",
        "    # Extract only the subject and body\n",
        "    msg = email.message_from_string(data)\n",
        "    text = f\"{msg['Subject']}\\n\\n{msg.get_payload()}\"\n",
        "    # Strip any remaining email addresses\n",
        "    text = re.sub(r\"[\\w\\.-]+@[\\w\\.-]+\", \"\", text)\n",
        "    # Truncate the text to fit within the input limits\n",
        "    text = text[:40000]\n",
        "\n",
        "    return text\n",
        "\n",
        "\n",
        "def preprocess_newsgroup_data(newsgroup_dataset):\n",
        "    # Put data points into dataframe\n",
        "    df = pd.DataFrame(\n",
        "        {\"Text\": newsgroup_dataset.data, \"Label\": newsgroup_dataset.target}\n",
        "    )\n",
        "    # Clean up the text\n",
        "    df[\"Text\"] = df[\"Text\"].apply(preprocess_newsgroup_row)\n",
        "    # Match label to target name index\n",
        "    df[\"Class Name\"] = df[\"Label\"].map(lambda l: newsgroup_dataset.target_names[l])\n",
        "\n",
        "    return df"
      ],
      "metadata": {
        "id": "IoNYTxpoZgB0",
        "trusted": true,
        "execution": {
          "iopub.status.busy": "2025-04-02T07:49:24.302711Z",
          "iopub.execute_input": "2025-04-02T07:49:24.303116Z",
          "iopub.status.idle": "2025-04-02T07:49:24.673312Z",
          "shell.execute_reply.started": "2025-04-02T07:49:24.30307Z",
          "shell.execute_reply": "2025-04-02T07:49:24.671991Z"
        }
      },
      "outputs": [],
      "execution_count": null
    },
    {
      "cell_type": "code",
      "source": [
        "# Apply preprocessing to training and test datasets\n",
        "df_train = preprocess_newsgroup_data(newsgroups_train)\n",
        "df_test = preprocess_newsgroup_data(newsgroups_test)\n",
        "\n",
        "df_train.head()"
      ],
      "metadata": {
        "id": "kvOsUSRWaW4g",
        "trusted": true,
        "execution": {
          "iopub.status.busy": "2025-04-02T07:49:43.572509Z",
          "iopub.execute_input": "2025-04-02T07:49:43.573622Z",
          "iopub.status.idle": "2025-04-02T07:49:47.447228Z",
          "shell.execute_reply.started": "2025-04-02T07:49:43.573563Z",
          "shell.execute_reply": "2025-04-02T07:49:47.445992Z"
        }
      },
      "outputs": [],
      "execution_count": null
    },
    {
      "cell_type": "markdown",
      "source": [
        "Now sample the data. You will keep 50 rows for each category for training. Note that this is even fewer than the Keras example, as this technique (parameter-efficient fine-tuning, or PEFT) updates a relatively small number of parameters and does not require training a new model or updating the large model."
      ],
      "metadata": {
        "id": "XSKcj5WtadaR"
      }
    },
    {
      "cell_type": "code",
      "source": [
        "def sample_data(df, num_samples, classes_to_keep):\n",
        "    # Sample rows, selecting num_samples of each Label.\n",
        "    df = (\n",
        "        df.groupby(\"Label\")[df.columns]\n",
        "        .apply(lambda x: x.sample(num_samples))\n",
        "        .reset_index(drop=True)\n",
        "    )\n",
        "\n",
        "    df = df[df[\"Class Name\"].str.contains(classes_to_keep)]\n",
        "    df[\"Class Name\"] = df[\"Class Name\"].astype(\"category\")\n",
        "\n",
        "    return df\n",
        "\n",
        "\n",
        "TRAIN_NUM_SAMPLES = 50\n",
        "TEST_NUM_SAMPLES = 10\n",
        "# Keep rec.* and sci.*\n",
        "CLASSES_TO_KEEP = \"^rec|^sci\"\n",
        "\n",
        "df_train = sample_data(df_train, TRAIN_NUM_SAMPLES, CLASSES_TO_KEEP)\n",
        "df_test = sample_data(df_test, TEST_NUM_SAMPLES, CLASSES_TO_KEEP)"
      ],
      "metadata": {
        "id": "0t9Xu6X5akkt",
        "trusted": true,
        "execution": {
          "iopub.status.busy": "2025-04-02T07:49:47.44871Z",
          "iopub.execute_input": "2025-04-02T07:49:47.448998Z",
          "iopub.status.idle": "2025-04-02T07:49:47.504263Z",
          "shell.execute_reply.started": "2025-04-02T07:49:47.448972Z",
          "shell.execute_reply": "2025-04-02T07:49:47.502994Z"
        }
      },
      "outputs": [],
      "execution_count": null
    },
    {
      "cell_type": "markdown",
      "source": [
        "## Evaluate baseline performance\n",
        "\n",
        "Before you start tuning a model, it's good practice to perform an evaluation on the available models to ensure you can measure how much the tuning helps.\n",
        "\n",
        "First identify a single sample row to use for visual inspection."
      ],
      "metadata": {
        "id": "Gc_RuZc0h5wi"
      }
    },
    {
      "cell_type": "code",
      "source": [
        "sample_idx = 0\n",
        "sample_row = preprocess_newsgroup_row(newsgroups_test.data[sample_idx])\n",
        "sample_label = newsgroups_test.target_names[newsgroups_test.target[sample_idx]]\n",
        "\n",
        "print(sample_row)\n",
        "print('---')\n",
        "print('Label:', sample_label)"
      ],
      "metadata": {
        "trusted": true,
        "execution": {
          "iopub.status.busy": "2025-04-02T07:49:52.104893Z",
          "iopub.execute_input": "2025-04-02T07:49:52.105294Z",
          "iopub.status.idle": "2025-04-02T07:49:52.112083Z",
          "shell.execute_reply.started": "2025-04-02T07:49:52.105259Z",
          "shell.execute_reply": "2025-04-02T07:49:52.110865Z"
        },
        "id": "1PQAPCIgh5wi"
      },
      "outputs": [],
      "execution_count": null
    },
    {
      "cell_type": "markdown",
      "source": [
        "Passing the text directly in as a prompt does not yield the desired results. The model will attempt to respond to the message."
      ],
      "metadata": {
        "id": "KmRmDOmXh5wj"
      }
    },
    {
      "cell_type": "code",
      "source": [
        "response = client.models.generate_content(\n",
        "    model=\"gemini-1.5-flash-001\", contents=sample_row)\n",
        "print(response.text)"
      ],
      "metadata": {
        "trusted": true,
        "execution": {
          "iopub.status.busy": "2025-04-02T07:49:54.456192Z",
          "iopub.execute_input": "2025-04-02T07:49:54.457192Z",
          "iopub.status.idle": "2025-04-02T07:49:58.006099Z",
          "shell.execute_reply.started": "2025-04-02T07:49:54.457136Z",
          "shell.execute_reply": "2025-04-02T07:49:58.005024Z"
        },
        "id": "64hF_9wmh5wk"
      },
      "outputs": [],
      "execution_count": null
    },
    {
      "cell_type": "markdown",
      "source": [
        "You can use the prompt engineering techniques you have learned this week to induce the model to perform the desired task. Try some of your own ideas and see what is effective, or check out the following cells for different approaches. Note that they have different levels of effectiveness!"
      ],
      "metadata": {
        "id": "jFApjxJwh5wk"
      }
    },
    {
      "cell_type": "code",
      "source": [
        "# Ask the model directly in a zero-shot prompt.\n",
        "\n",
        "prompt = \"From what newsgroup does the following message originate?\"\n",
        "baseline_response = client.models.generate_content(\n",
        "    model=\"gemini-1.5-flash-001\",\n",
        "    contents=[prompt, sample_row])\n",
        "print(baseline_response.text)"
      ],
      "metadata": {
        "trusted": true,
        "execution": {
          "iopub.status.busy": "2025-04-02T07:50:05.256079Z",
          "iopub.execute_input": "2025-04-02T07:50:05.256628Z",
          "iopub.status.idle": "2025-04-02T07:50:06.077581Z",
          "shell.execute_reply.started": "2025-04-02T07:50:05.256575Z",
          "shell.execute_reply": "2025-04-02T07:50:06.075933Z"
        },
        "id": "hMhLDIiJh5wk"
      },
      "outputs": [],
      "execution_count": null
    },
    {
      "cell_type": "markdown",
      "source": [
        "This technique still produces quite a verbose response. You could try and parse out the relevant text, or refine the prompt even further."
      ],
      "metadata": {
        "id": "LwEj5FZch5wl"
      }
    },
    {
      "cell_type": "code",
      "source": [
        "from google.api_core import retry\n",
        "\n",
        "# You can use a system instruction to do more direct prompting, and get a\n",
        "# more succinct answer.\n",
        "\n",
        "system_instruct = \"\"\"\n",
        "You are a classification service. You will be passed input that represents\n",
        "a newsgroup post and you must respond with the newsgroup from which the post\n",
        "originates.\n",
        "\"\"\"\n",
        "\n",
        "# Define a helper to retry when per-minute quota is reached.\n",
        "is_retriable = lambda e: (isinstance(e, genai.errors.APIError) and e.code in {429, 503})\n",
        "\n",
        "# If you want to evaluate your own technique, replace this body of this function\n",
        "# with your model, prompt and other code and return the predicted answer.\n",
        "@retry.Retry(predicate=is_retriable)\n",
        "def predict_label(post: str) -> str:\n",
        "    response = client.models.generate_content(\n",
        "        model=\"gemini-1.5-flash-001\",\n",
        "        config=types.GenerateContentConfig(\n",
        "            system_instruction=system_instruct),\n",
        "        contents=post)\n",
        "\n",
        "    rc = response.candidates[0]\n",
        "\n",
        "    # Any errors, filters, recitation, etc we can mark as a general error\n",
        "    if rc.finish_reason.name != \"STOP\":\n",
        "        return \"(error)\"\n",
        "    else:\n",
        "        # Clean up the response.\n",
        "        return response.text.strip()\n",
        "\n",
        "\n",
        "prediction = predict_label(sample_row)\n",
        "\n",
        "print(prediction)\n",
        "print()\n",
        "print(\"Correct!\" if prediction == sample_label else \"Incorrect.\")"
      ],
      "metadata": {
        "trusted": true,
        "execution": {
          "iopub.status.busy": "2025-04-02T07:50:19.474289Z",
          "iopub.execute_input": "2025-04-02T07:50:19.474737Z",
          "iopub.status.idle": "2025-04-02T07:50:20.185012Z",
          "shell.execute_reply.started": "2025-04-02T07:50:19.474696Z",
          "shell.execute_reply": "2025-04-02T07:50:20.183642Z"
        },
        "id": "nwC9_iJch5wl"
      },
      "outputs": [],
      "execution_count": null
    },
    {
      "cell_type": "markdown",
      "source": [
        "Now run a short evaluation using the function defined above. The test set is further sampled to ensure the experiment runs smoothly on the API's free tier. In practice you would evaluate over the whole set."
      ],
      "metadata": {
        "id": "9hqC4ccSh5wm"
      }
    },
    {
      "cell_type": "code",
      "source": [
        "import tqdm\n",
        "from tqdm.rich import tqdm as tqdmr\n",
        "import warnings\n",
        "\n",
        "# Enable tqdm features on Pandas.\n",
        "tqdmr.pandas()\n",
        "\n",
        "# But suppress the experimental warning\n",
        "warnings.filterwarnings(\"ignore\", category=tqdm.TqdmExperimentalWarning)\n",
        "\n",
        "\n",
        "# Further sample the test data to be mindful of the free-tier quota.\n",
        "df_baseline_eval = sample_data(df_test, 2, '.*')\n",
        "\n",
        "# Make predictions using the sampled data.\n",
        "df_baseline_eval['Prediction'] = df_baseline_eval['Text'].progress_apply(predict_label)\n",
        "\n",
        "# And calculate the accuracy.\n",
        "accuracy = (df_baseline_eval[\"Class Name\"] == df_baseline_eval[\"Prediction\"]).sum() / len(df_baseline_eval)\n",
        "print(f\"Accuracy: {accuracy:.2%}\")"
      ],
      "metadata": {
        "trusted": true,
        "execution": {
          "iopub.status.busy": "2025-04-02T07:50:36.20491Z",
          "iopub.execute_input": "2025-04-02T07:50:36.205338Z",
          "iopub.status.idle": "2025-04-02T07:51:06.125368Z",
          "shell.execute_reply.started": "2025-04-02T07:50:36.205304Z",
          "shell.execute_reply": "2025-04-02T07:51:06.124235Z"
        },
        "id": "_2ZpZrAKh5wn"
      },
      "outputs": [],
      "execution_count": null
    },
    {
      "cell_type": "markdown",
      "source": [
        "Now take a look at the dataframe to compare the predictions with the labels."
      ],
      "metadata": {
        "id": "ECIwPCish5wn"
      }
    },
    {
      "cell_type": "code",
      "source": [
        "df_baseline_eval"
      ],
      "metadata": {
        "trusted": true,
        "execution": {
          "iopub.status.busy": "2025-04-02T07:51:06.13034Z",
          "iopub.execute_input": "2025-04-02T07:51:06.130826Z",
          "iopub.status.idle": "2025-04-02T07:51:06.144977Z",
          "shell.execute_reply.started": "2025-04-02T07:51:06.130772Z",
          "shell.execute_reply": "2025-04-02T07:51:06.143833Z"
        },
        "id": "tSbm0A16h5wo"
      },
      "outputs": [],
      "execution_count": null
    },
    {
      "cell_type": "markdown",
      "source": [
        "## Tune a custom model\n",
        "\n",
        "In this example you'll use tuning to create a model that requires no prompting or system instructions and outputs succinct text from the classes you provide in the training data.\n",
        "\n",
        "The data contains both input text (the processed posts) and output text (the category, or newsgroup), that you can use to start tuning a model.\n",
        "\n",
        "When calling `tune()`, you can specify model tuning hyperparameters too:\n",
        " - `epoch_count`: defines how many times to loop through the data,\n",
        " - `batch_size`: defines how many rows to process in a single step, and\n",
        " - `learning_rate`: defines the scaling factor for updating model weights at each step.\n",
        "\n",
        "You can also choose to omit them and use the defaults. [Learn more](https://developers.google.com/machine-learning/crash-course/linear-regression/hyperparameters) about these parameters and how they work. For this example these parameters were selected by running some tuning jobs and selecting parameters that converged efficiently.\n",
        "\n",
        "This example will start a new tuning job, but only if one does not already exist. This allows you to leave this codelab and come back later - re-running this step will find your last model."
      ],
      "metadata": {
        "id": "Ok7ugrLzcghX"
      }
    },
    {
      "cell_type": "code",
      "source": [
        "from collections.abc import Iterable\n",
        "import random\n",
        "\n",
        "\n",
        "# Convert the data frame into a dataset suitable for tuning.\n",
        "input_data = {'examples':\n",
        "    df_train[['Text', 'Class Name']]\n",
        "      .rename(columns={'Text': 'textInput', 'Class Name': 'output'})\n",
        "      .to_dict(orient='records')\n",
        " }\n",
        "\n",
        "# If you are re-running this lab, add your model_id here.\n",
        "model_id = None\n",
        "\n",
        "# Or try and find a recent tuning job.\n",
        "if not model_id:\n",
        "  queued_model = None\n",
        "  # Newest models first.\n",
        "  for m in reversed(client.tunings.list()):\n",
        "    # Only look at newsgroup classification models.\n",
        "    if m.name.startswith('tunedModels/newsgroup-classification-model'):\n",
        "      # If there is a completed model, use the first (newest) one.\n",
        "      if m.state.name == 'JOB_STATE_SUCCEEDED':\n",
        "        model_id = m.name\n",
        "        print('Found existing tuned model to reuse.')\n",
        "        break\n",
        "\n",
        "      elif m.state.name == 'JOB_STATE_RUNNING' and not queued_model:\n",
        "        # If there's a model still queued, remember the most recent one.\n",
        "        queued_model = m.name\n",
        "  else:\n",
        "    if queued_model:\n",
        "      model_id = queued_model\n",
        "      print('Found queued model, still waiting.')\n",
        "\n",
        "\n",
        "# Upload the training data and queue the tuning job.\n",
        "if not model_id:\n",
        "    tuning_op = client.tunings.tune(\n",
        "        base_model=\"models/gemini-1.5-flash-001-tuning\",\n",
        "        training_dataset=input_data,\n",
        "        config=types.CreateTuningJobConfig(\n",
        "            tuned_model_display_name=\"Newsgroup classification model\",\n",
        "            batch_size=16,\n",
        "            epoch_count=2,\n",
        "        ),\n",
        "    )\n",
        "\n",
        "    print(tuning_op.state)\n",
        "    model_id = tuning_op.name\n",
        "\n",
        "print(model_id)"
      ],
      "metadata": {
        "id": "pWOZlspfY8dV",
        "trusted": true,
        "execution": {
          "iopub.status.busy": "2025-04-02T07:55:53.141652Z",
          "iopub.execute_input": "2025-04-02T07:55:53.142071Z",
          "iopub.status.idle": "2025-04-02T07:55:55.004654Z",
          "shell.execute_reply.started": "2025-04-02T07:55:53.142034Z",
          "shell.execute_reply": "2025-04-02T07:55:55.003495Z"
        }
      },
      "outputs": [],
      "execution_count": null
    },
    {
      "cell_type": "markdown",
      "source": [
        "This has created a tuning job that will run in the background. To inspect the progress of the tuning job, run this cell to plot the current status and loss curve. Once the status reaches `ACTIVE`, tuning is complete and the model is ready to use.\n",
        "\n",
        "Tuning jobs are queued, so it may look like no training steps have been taken initially but it will progress. Tuning can take anywhere from a few minutes to multiple hours, depending on factors like your dataset size and how busy the tuning infrastrature is. Why not treat yourself to a nice cup of tea while you wait, or come and say \"Hi!\" in the group [Discord](https://discord.com/invite/kaggle).\n",
        "\n",
        "It is safe to stop this cell at any point. It will not stop the tuning job.\n",
        "\n",
        "**IMPORTANT**: Due to the high volume of users doing this course, tuning jobs may be queued for many hours. Take a note of your tuned model ID above (`tunedModels/...`) so you can come back to it tomorrow. In the meantime, check out the [Search grounding](https://www.kaggle.com/code/markishere/day-4-google-search-grounding/) codelab. If you want to try tuning a local LLM, check out [the fine-tuning guides for tuning a Gemma model](https://ai.google.dev/gemma/docs/tune)."
      ],
      "metadata": {
        "id": "NQ3YZ2MBubCY"
      }
    },
    {
      "cell_type": "code",
      "source": [
        "import datetime\n",
        "import time\n",
        "\n",
        "\n",
        "MAX_WAIT = datetime.timedelta(minutes=10)\n",
        "\n",
        "while not (tuned_model := client.tunings.get(name=model_id)).has_ended:\n",
        "\n",
        "    print(tuned_model.state)\n",
        "    time.sleep(60)\n",
        "\n",
        "    # Don't wait too long. Use a public model if this is going to take a while.\n",
        "    if datetime.datetime.now(datetime.timezone.utc) - tuned_model.create_time > MAX_WAIT:\n",
        "        print(\"Taking a shortcut, using a previously prepared model.\")\n",
        "        model_id = \"tunedModels/newsgroup-classification-model-ltenbi1b\"\n",
        "        tuned_model = client.tunings.get(name=model_id)\n",
        "        break\n",
        "\n",
        "\n",
        "print(f\"Done! The model state is: {tuned_model.state.name}\")\n",
        "\n",
        "if not tuned_model.has_succeeded and tuned_model.error:\n",
        "    print(\"Error:\", tuned_model.error)"
      ],
      "metadata": {
        "id": "c4ef5f13692d",
        "trusted": true,
        "execution": {
          "iopub.status.busy": "2025-04-02T08:11:13.878313Z",
          "iopub.execute_input": "2025-04-02T08:11:13.878725Z",
          "iopub.status.idle": "2025-04-02T08:11:15.417549Z",
          "shell.execute_reply.started": "2025-04-02T08:11:13.878693Z",
          "shell.execute_reply": "2025-04-02T08:11:15.416441Z"
        }
      },
      "outputs": [],
      "execution_count": null
    },
    {
      "cell_type": "markdown",
      "source": [
        "## Use the new model\n",
        "\n",
        "Now that you have a tuned model, try it out with custom data. You use the same API as a normal Gemini API interaction, but you specify your new model as the model name, which will start with `tunedModels/`."
      ],
      "metadata": {
        "id": "9-qiIdK4u80z"
      }
    },
    {
      "cell_type": "code",
      "source": [
        "new_text = \"\"\"\n",
        "First-timer looking to get out of here.\n",
        "\n",
        "Hi, I'm writing about my interest in travelling to the outer limits!\n",
        "\n",
        "What kind of craft can I buy? What is easiest to access from this 3rd rock?\n",
        "\n",
        "Let me know how to do that please.\n",
        "\"\"\"\n",
        "\n",
        "response = client.models.generate_content(\n",
        "    model=model_id, contents=new_text)\n",
        "\n",
        "print(response.text)"
      ],
      "metadata": {
        "id": "hyO2-MXLvM6a",
        "trusted": true,
        "execution": {
          "iopub.status.busy": "2025-04-02T08:11:24.915979Z",
          "iopub.execute_input": "2025-04-02T08:11:24.91659Z",
          "iopub.status.idle": "2025-04-02T08:11:27.566345Z",
          "shell.execute_reply.started": "2025-04-02T08:11:24.91654Z",
          "shell.execute_reply": "2025-04-02T08:11:27.564861Z"
        }
      },
      "outputs": [],
      "execution_count": null
    },
    {
      "cell_type": "markdown",
      "source": [
        "### Evaluation\n",
        "\n",
        "You can see that the model outputs labels that correspond to those in the training data, and without any system instructions or prompting, which is already a great improvement. Now see how well it performs on the test set.\n",
        "\n",
        "Note that there is no parallelism in this example; classifying the test sub-set will take a few minutes."
      ],
      "metadata": {
        "id": "xajLek9DySH_"
      }
    },
    {
      "cell_type": "code",
      "source": [
        "@retry.Retry(predicate=is_retriable)\n",
        "def classify_text(text: str) -> str:\n",
        "    \"\"\"Classify the provided text into a known newsgroup.\"\"\"\n",
        "    response = client.models.generate_content(\n",
        "        model=model_id, contents=text)\n",
        "    rc = response.candidates[0]\n",
        "\n",
        "    # Any errors, filters, recitation, etc we can mark as a general error\n",
        "    if rc.finish_reason.name != \"STOP\":\n",
        "        return \"(error)\"\n",
        "    else:\n",
        "        return rc.content.parts[0].text\n",
        "\n",
        "\n",
        "# The sampling here is just to minimise your quota usage. If you can, you should\n",
        "# evaluate the whole test set with `df_model_eval = df_test.copy()`.\n",
        "df_model_eval = sample_data(df_test, 4, '.*')\n",
        "\n",
        "df_model_eval[\"Prediction\"] = df_model_eval[\"Text\"].progress_apply(classify_text)\n",
        "\n",
        "accuracy = (df_model_eval[\"Class Name\"] == df_model_eval[\"Prediction\"]).sum() / len(df_model_eval)\n",
        "print(f\"Accuracy: {accuracy:.2%}\")"
      ],
      "metadata": {
        "id": "6T2Y3ZApvbMw",
        "trusted": true,
        "execution": {
          "iopub.status.busy": "2025-04-02T08:11:29.712728Z",
          "iopub.execute_input": "2025-04-02T08:11:29.713129Z",
          "iopub.status.idle": "2025-04-02T08:14:02.348228Z",
          "shell.execute_reply.started": "2025-04-02T08:11:29.713082Z",
          "shell.execute_reply": "2025-04-02T08:14:02.347128Z"
        }
      },
      "outputs": [],
      "execution_count": null
    },
    {
      "cell_type": "markdown",
      "source": [
        "## Compare token usage\n",
        "\n",
        "AI Studio and the Gemini API provide model tuning at no cost, however normal limits and charges apply for *use* of a tuned model.\n",
        "\n",
        "The size of the input prompt and other generation config like system instructions, as well as the number of generated output tokens, all contribute to the overall cost of a request."
      ],
      "metadata": {
        "id": "QmWhpnWjh5xB"
      }
    },
    {
      "cell_type": "code",
      "source": [
        "# Calculate the *input* cost of the baseline model with system instructions.\n",
        "sysint_tokens = client.models.count_tokens(\n",
        "    model='gemini-1.5-flash-001', contents=[system_instruct, sample_row]\n",
        ").total_tokens\n",
        "print(f'System instructed baseline model: {sysint_tokens} (input)')\n",
        "\n",
        "# Calculate the input cost of the tuned model.\n",
        "tuned_tokens = client.models.count_tokens(model=tuned_model.base_model, contents=sample_row).total_tokens\n",
        "print(f'Tuned model: {tuned_tokens} (input)')\n",
        "\n",
        "savings = (sysint_tokens - tuned_tokens) / tuned_tokens\n",
        "print(f'Token savings: {savings:.2%}')  # Note that this is only n=1."
      ],
      "metadata": {
        "trusted": true,
        "execution": {
          "iopub.status.busy": "2025-04-02T08:14:02.35288Z",
          "iopub.execute_input": "2025-04-02T08:14:02.353306Z",
          "iopub.status.idle": "2025-04-02T08:14:02.612742Z",
          "shell.execute_reply.started": "2025-04-02T08:14:02.353257Z",
          "shell.execute_reply": "2025-04-02T08:14:02.611517Z"
        },
        "id": "13dAYhPLh5xC"
      },
      "outputs": [],
      "execution_count": null
    },
    {
      "cell_type": "markdown",
      "source": [
        "The earlier verbose model also produced more output tokens than needed for this task."
      ],
      "metadata": {
        "id": "BYA0OBukh5xD"
      }
    },
    {
      "cell_type": "code",
      "source": [
        "baseline_token_output = baseline_response.usage_metadata.candidates_token_count\n",
        "print('Baseline (verbose) output tokens:', baseline_token_output)\n",
        "\n",
        "tuned_model_output = client.models.generate_content(\n",
        "    model=model_id, contents=sample_row)\n",
        "tuned_tokens_output = tuned_model_output.usage_metadata.candidates_token_count\n",
        "print('Tuned output tokens:', tuned_tokens_output)"
      ],
      "metadata": {
        "trusted": true,
        "execution": {
          "iopub.status.busy": "2025-04-02T08:14:02.614741Z",
          "iopub.execute_input": "2025-04-02T08:14:02.615096Z",
          "iopub.status.idle": "2025-04-02T08:14:03.532486Z",
          "shell.execute_reply.started": "2025-04-02T08:14:02.615061Z",
          "shell.execute_reply": "2025-04-02T08:14:03.531188Z"
        },
        "id": "G2_DNmxUh5xE"
      },
      "outputs": [],
      "execution_count": null
    },
    {
      "cell_type": "markdown",
      "source": [
        "## Next steps\n",
        "\n",
        "Now that you have tuned a classification model, try some other tasks, like tuning a model to respond with a specific tone or style using hand-written examples (or even generated examples!). Kaggle hosts [a number of datasets](https://www.kaggle.com/datasets) you can try out.\n",
        "\n",
        "Learn about [when supervised fine-tuning is most effective](https://cloud.google.com/blog/products/ai-machine-learning/supervised-fine-tuning-for-gemini-llm).\n",
        "\n",
        "And check out the [fine-tuning tutorial](https://ai.google.dev/gemini-api/docs/model-tuning/tutorial?hl=en&lang=python) for another example that shows a tuned model extending beyond the training data to new, unseen inputs.\n",
        "\n",
        "*- [Mark McD](https://linktr.ee/markmcd)*"
      ],
      "metadata": {
        "id": "6c1204a5d0ab"
      }
    }
  ]
}