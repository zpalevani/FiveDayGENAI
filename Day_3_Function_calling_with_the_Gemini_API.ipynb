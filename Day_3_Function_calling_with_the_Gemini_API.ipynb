{
  "metadata": {
    "kernelspec": {
      "name": "python3",
      "display_name": "Python 3",
      "language": "python"
    },
    "language_info": {
      "name": "python",
      "version": "3.10.14",
      "mimetype": "text/x-python",
      "codemirror_mode": {
        "name": "ipython",
        "version": 3
      },
      "pygments_lexer": "ipython3",
      "nbconvert_exporter": "python",
      "file_extension": ".py"
    },
    "colab": {
      "toc_visible": true,
      "name": "Day 3 - Function calling with the Gemini API",
      "provenance": [],
      "include_colab_link": true
    },
    "kaggle": {
      "accelerator": "none",
      "dataSources": [],
      "dockerImageVersionId": 30786,
      "isInternetEnabled": true,
      "language": "python",
      "sourceType": "notebook",
      "isGpuEnabled": false
    }
  },
  "nbformat_minor": 0,
  "nbformat": 4,
  "cells": [
    {
      "cell_type": "markdown",
      "metadata": {
        "id": "view-in-github",
        "colab_type": "text"
      },
      "source": [
        "<a href=\"https://colab.research.google.com/github/zpalevani/FiveDayGENAI/blob/main/Day_3_Function_calling_with_the_Gemini_API.ipynb\" target=\"_parent\"><img src=\"https://colab.research.google.com/assets/colab-badge.svg\" alt=\"Open In Colab\"/></a>"
      ]
    },
    {
      "cell_type": "markdown",
      "source": [
        "##### Copyright 2025 Google LLC."
      ],
      "metadata": {
        "id": "b6e13eef3f5d"
      }
    },
    {
      "cell_type": "code",
      "source": [
        "# @title Licensed under the Apache License, Version 2.0 (the \"License\");\n",
        "# you may not use this file except in compliance with the License.\n",
        "# You may obtain a copy of the License at\n",
        "#\n",
        "# https://www.apache.org/licenses/LICENSE-2.0\n",
        "#\n",
        "# Unless required by applicable law or agreed to in writing, software\n",
        "# distributed under the License is distributed on an \"AS IS\" BASIS,\n",
        "# WITHOUT WARRANTIES OR CONDITIONS OF ANY KIND, either express or implied.\n",
        "# See the License for the specific language governing permissions and\n",
        "# limitations under the License."
      ],
      "metadata": {
        "cellView": "form",
        "id": "d6597b11df14",
        "trusted": true,
        "execution": {
          "iopub.status.busy": "2025-04-02T02:44:45.37982Z",
          "iopub.execute_input": "2025-04-02T02:44:45.380814Z",
          "iopub.status.idle": "2025-04-02T02:44:45.401751Z",
          "shell.execute_reply.started": "2025-04-02T02:44:45.380761Z",
          "shell.execute_reply": "2025-04-02T02:44:45.400894Z"
        },
        "jupyter": {
          "source_hidden": true
        }
      },
      "outputs": [],
      "execution_count": null
    },
    {
      "cell_type": "markdown",
      "source": [
        "# Day 3 - Function calling with the Gemini API\n",
        "\n",
        "Welcome back to the Kaggle 5-day Generative AI course!\n",
        "\n",
        "In this notebook, you will use the Gemini API's automatic function calling to build a chat interface over a local database. This example is a toy and is missing a number of safety and security constraints you would use in a real-world example, but shows how to add AI chat capabilities to existing applications with ease.\n",
        "\n",
        "## For help\n",
        "\n",
        "**Common issues are covered in the [FAQ and troubleshooting guide](https://www.kaggle.com/code/markishere/day-0-troubleshooting-and-faqs).**"
      ],
      "metadata": {
        "id": "4a7d3bb68371"
      }
    },
    {
      "cell_type": "markdown",
      "source": [
        "## Setup\n",
        "\n",
        "Start by installing and importing the Python SDK."
      ],
      "metadata": {
        "id": "ea197d1d464f"
      }
    },
    {
      "cell_type": "code",
      "source": [
        "!pip uninstall -qqy jupyterlab  # Remove unused conflicting packages\n",
        "!pip install -U -q \"google-genai==1.7.0\""
      ],
      "metadata": {
        "id": "a24f42e469df",
        "trusted": true,
        "execution": {
          "iopub.status.busy": "2025-04-02T02:44:45.40338Z",
          "iopub.execute_input": "2025-04-02T02:44:45.403695Z",
          "iopub.status.idle": "2025-04-02T02:45:02.623878Z",
          "shell.execute_reply.started": "2025-04-02T02:44:45.403664Z",
          "shell.execute_reply": "2025-04-02T02:45:02.622428Z"
        }
      },
      "outputs": [],
      "execution_count": null
    },
    {
      "cell_type": "code",
      "source": [
        "from google import genai\n",
        "from google.genai import types\n",
        "\n",
        "genai.__version__"
      ],
      "metadata": {
        "id": "02bb0f551e25",
        "trusted": true,
        "execution": {
          "iopub.status.busy": "2025-04-02T02:45:02.625421Z",
          "iopub.execute_input": "2025-04-02T02:45:02.625769Z",
          "iopub.status.idle": "2025-04-02T02:45:03.915041Z",
          "shell.execute_reply.started": "2025-04-02T02:45:02.625735Z",
          "shell.execute_reply": "2025-04-02T02:45:03.913948Z"
        }
      },
      "outputs": [],
      "execution_count": null
    },
    {
      "cell_type": "markdown",
      "source": [
        "### Set up your API key\n",
        "\n",
        "To run the following cell, your API key must be stored it in a [Kaggle secret](https://www.kaggle.com/discussions/product-feedback/114053) named `GOOGLE_API_KEY`.\n",
        "\n",
        "If you don't already have an API key, you can grab one from [AI Studio](https://aistudio.google.com/app/apikey). You can find [detailed instructions in the docs](https://ai.google.dev/gemini-api/docs/api-key).\n",
        "\n",
        "To make the key available through Kaggle secrets, choose `Secrets` from the `Add-ons` menu and follow the instructions to add your key or enable it for this notebook."
      ],
      "metadata": {
        "id": "90e83cddff61"
      }
    },
    {
      "cell_type": "code",
      "source": [
        "from kaggle_secrets import UserSecretsClient\n",
        "\n",
        "GOOGLE_API_KEY = UserSecretsClient().get_secret(\"GOOGLE_API_KEY\")"
      ],
      "metadata": {
        "id": "5cc8325f051d",
        "trusted": true,
        "execution": {
          "iopub.status.busy": "2025-04-02T02:45:03.916169Z",
          "iopub.execute_input": "2025-04-02T02:45:03.91658Z",
          "iopub.status.idle": "2025-04-02T02:45:04.05096Z",
          "shell.execute_reply.started": "2025-04-02T02:45:03.91655Z",
          "shell.execute_reply": "2025-04-02T02:45:04.049729Z"
        }
      },
      "outputs": [],
      "execution_count": null
    },
    {
      "cell_type": "markdown",
      "source": [
        "If you received an error response along the lines of `No user secrets exist for kernel id ...`, then you need to add your API key via `Add-ons`, `Secrets` **and** enable it.\n",
        "\n",
        "![Screenshot of the checkbox to enable GOOGLE_API_KEY secret](https://storage.googleapis.com/kaggle-media/Images/5gdai_sc_3.png)"
      ],
      "metadata": {
        "id": "857b6f96eb38"
      }
    },
    {
      "cell_type": "markdown",
      "source": [
        "### Automated retry"
      ],
      "metadata": {
        "id": "63EKCqXHfg1v"
      }
    },
    {
      "cell_type": "code",
      "source": [
        "# Define a retry policy. The model might make multiple consecutive calls automatically\n",
        "# for a complex query, this ensures the client retries if it hits quota limits.\n",
        "from google.api_core import retry\n",
        "\n",
        "is_retriable = lambda e: (isinstance(e, genai.errors.APIError) and e.code in {429, 503})\n",
        "\n",
        "if not hasattr(genai.models.Models.generate_content, '__wrapped__'):\n",
        "  genai.models.Models.generate_content = retry.Retry(\n",
        "      predicate=is_retriable)(genai.models.Models.generate_content)"
      ],
      "metadata": {
        "trusted": true,
        "execution": {
          "iopub.status.busy": "2025-04-02T02:45:04.05452Z",
          "iopub.execute_input": "2025-04-02T02:45:04.055481Z",
          "iopub.status.idle": "2025-04-02T02:45:04.220477Z",
          "shell.execute_reply.started": "2025-04-02T02:45:04.05544Z",
          "shell.execute_reply": "2025-04-02T02:45:04.219388Z"
        },
        "id": "6KzArIgKfg1v"
      },
      "outputs": [],
      "execution_count": null
    },
    {
      "cell_type": "markdown",
      "source": [
        "## Create a local database\n",
        "\n",
        "For this minimal example, you'll create a local SQLite database and add some synthetic data so you have something to query.\n",
        "\n",
        "Load the `sql` IPython extension so you can interact with the database using magic commands (the `%` instructions) to create a new, empty SQLite database."
      ],
      "metadata": {
        "id": "ed8fc6062c62"
      }
    },
    {
      "cell_type": "code",
      "source": [
        "%load_ext sql\n",
        "%sql sqlite:///sample.db"
      ],
      "metadata": {
        "id": "c98a627ef07b",
        "trusted": true,
        "execution": {
          "iopub.status.busy": "2025-04-02T02:45:04.221673Z",
          "iopub.execute_input": "2025-04-02T02:45:04.22215Z",
          "iopub.status.idle": "2025-04-02T02:45:05.389346Z",
          "shell.execute_reply.started": "2025-04-02T02:45:04.222111Z",
          "shell.execute_reply": "2025-04-02T02:45:05.388214Z"
        }
      },
      "outputs": [],
      "execution_count": null
    },
    {
      "cell_type": "markdown",
      "source": [
        "Create the tables and insert some synthetic data. Feel free to tweak this structure and data."
      ],
      "metadata": {
        "id": "14e7bc18b8af"
      }
    },
    {
      "cell_type": "code",
      "source": [
        "%%sql\n",
        "-- Create the 'products' table\n",
        "CREATE TABLE IF NOT EXISTS products (\n",
        "  \tproduct_id INTEGER PRIMARY KEY AUTOINCREMENT,\n",
        "  \tproduct_name VARCHAR(255) NOT NULL,\n",
        "  \tprice DECIMAL(10, 2) NOT NULL\n",
        "  );\n",
        "\n",
        "-- Create the 'staff' table\n",
        "CREATE TABLE IF NOT EXISTS staff (\n",
        "  \tstaff_id INTEGER PRIMARY KEY AUTOINCREMENT,\n",
        "  \tfirst_name VARCHAR(255) NOT NULL,\n",
        "  \tlast_name VARCHAR(255) NOT NULL\n",
        "  );\n",
        "\n",
        "-- Create the 'orders' table\n",
        "CREATE TABLE IF NOT EXISTS orders (\n",
        "  \torder_id INTEGER PRIMARY KEY AUTOINCREMENT,\n",
        "  \tcustomer_name VARCHAR(255) NOT NULL,\n",
        "  \tstaff_id INTEGER NOT NULL,\n",
        "  \tproduct_id INTEGER NOT NULL,\n",
        "  \tFOREIGN KEY (staff_id) REFERENCES staff (staff_id),\n",
        "  \tFOREIGN KEY (product_id) REFERENCES products (product_id)\n",
        "  );\n",
        "\n",
        "-- Insert data into the 'products' table\n",
        "INSERT INTO products (product_name, price) VALUES\n",
        "  \t('Laptop', 799.99),\n",
        "  \t('Keyboard', 129.99),\n",
        "  \t('Mouse', 29.99);\n",
        "\n",
        "-- Insert data into the 'staff' table\n",
        "INSERT INTO staff (first_name, last_name) VALUES\n",
        "  \t('Alice', 'Smith'),\n",
        "  \t('Bob', 'Johnson'),\n",
        "  \t('Charlie', 'Williams');\n",
        "\n",
        "-- Insert data into the 'orders' table\n",
        "INSERT INTO orders (customer_name, staff_id, product_id) VALUES\n",
        "  \t('David Lee', 1, 1),\n",
        "  \t('Emily Chen', 2, 2),\n",
        "  \t('Frank Brown', 1, 3);"
      ],
      "metadata": {
        "id": "4e186de46cf1",
        "trusted": true,
        "execution": {
          "iopub.status.busy": "2025-04-02T02:45:05.390797Z",
          "iopub.execute_input": "2025-04-02T02:45:05.391325Z",
          "iopub.status.idle": "2025-04-02T02:45:05.46038Z",
          "shell.execute_reply.started": "2025-04-02T02:45:05.391287Z",
          "shell.execute_reply": "2025-04-02T02:45:05.459411Z"
        }
      },
      "outputs": [],
      "execution_count": null
    },
    {
      "cell_type": "markdown",
      "source": [
        "## Define database functions\n",
        "\n",
        "Function calling with Gemini API's Python SDK can be implemented by defining [an OpenAPI schema](https://ai.google.dev/api/caching#Schema) that is passed to the model. You can also define Python functions and let the SDK inspect them to automatically define the schema. In this latter case, it's important that the functions are type annotated and have accurate docstrings that describe what the functions do - the model has no insight into the function body, so the docs function as the interface.\n",
        "\n",
        "By providing three key pieces of functionality - listing tables, describing a table, and executing a query - the LLM (much like a human user) will have the basic tools needed to understand and interrogate the database.\n",
        "\n",
        "Start with a database connection that will be used across all of the functions."
      ],
      "metadata": {
        "id": "83901899a79b"
      }
    },
    {
      "cell_type": "code",
      "source": [
        "import sqlite3\n",
        "\n",
        "db_file = \"sample.db\"\n",
        "db_conn = sqlite3.connect(db_file)"
      ],
      "metadata": {
        "id": "437168bc6b6e",
        "trusted": true,
        "execution": {
          "iopub.status.busy": "2025-04-02T02:45:05.461578Z",
          "iopub.execute_input": "2025-04-02T02:45:05.461881Z",
          "iopub.status.idle": "2025-04-02T02:45:05.466776Z",
          "shell.execute_reply.started": "2025-04-02T02:45:05.46185Z",
          "shell.execute_reply": "2025-04-02T02:45:05.465756Z"
        }
      },
      "outputs": [],
      "execution_count": null
    },
    {
      "cell_type": "markdown",
      "source": [
        "The first function will list all tables available in the database. Define it, and test it out to ensure it works."
      ],
      "metadata": {
        "id": "b68b1a2c37d9"
      }
    },
    {
      "cell_type": "code",
      "source": [
        "def list_tables() -> list[str]:\n",
        "    \"\"\"Retrieve the names of all tables in the database.\"\"\"\n",
        "    # Include print logging statements so you can see when functions are being called.\n",
        "    print(' - DB CALL: list_tables()')\n",
        "\n",
        "    cursor = db_conn.cursor()\n",
        "\n",
        "    # Fetch the table names.\n",
        "    cursor.execute(\"SELECT name FROM sqlite_master WHERE type='table';\")\n",
        "\n",
        "    tables = cursor.fetchall()\n",
        "    return [t[0] for t in tables]\n",
        "\n",
        "\n",
        "list_tables()"
      ],
      "metadata": {
        "id": "bdb0e4d2bb4b",
        "trusted": true,
        "execution": {
          "iopub.status.busy": "2025-04-02T02:45:05.468118Z",
          "iopub.execute_input": "2025-04-02T02:45:05.468616Z",
          "iopub.status.idle": "2025-04-02T02:45:05.485435Z",
          "shell.execute_reply.started": "2025-04-02T02:45:05.468584Z",
          "shell.execute_reply": "2025-04-02T02:45:05.484356Z"
        }
      },
      "outputs": [],
      "execution_count": null
    },
    {
      "cell_type": "markdown",
      "source": [
        "Once the available tables is known, the next step a database user will need is to understand what columns are available in a given table. Define that too, and test that it works as expected."
      ],
      "metadata": {
        "id": "b6c010b1b6c2"
      }
    },
    {
      "cell_type": "code",
      "source": [
        "def describe_table(table_name: str) -> list[tuple[str, str]]:\n",
        "    \"\"\"Look up the table schema.\n",
        "\n",
        "    Returns:\n",
        "      List of columns, where each entry is a tuple of (column, type).\n",
        "    \"\"\"\n",
        "    print(f' - DB CALL: describe_table({table_name})')\n",
        "\n",
        "    cursor = db_conn.cursor()\n",
        "\n",
        "    cursor.execute(f\"PRAGMA table_info({table_name});\")\n",
        "\n",
        "    schema = cursor.fetchall()\n",
        "    # [column index, column name, column type, ...]\n",
        "    return [(col[1], col[2]) for col in schema]\n",
        "\n",
        "\n",
        "describe_table(\"products\")"
      ],
      "metadata": {
        "id": "ecdb109298c4",
        "trusted": true,
        "execution": {
          "iopub.status.busy": "2025-04-02T02:45:05.486853Z",
          "iopub.execute_input": "2025-04-02T02:45:05.487954Z",
          "iopub.status.idle": "2025-04-02T02:45:05.498699Z",
          "shell.execute_reply.started": "2025-04-02T02:45:05.487906Z",
          "shell.execute_reply": "2025-04-02T02:45:05.497662Z"
        }
      },
      "outputs": [],
      "execution_count": null
    },
    {
      "cell_type": "markdown",
      "source": [
        "Now that the system knows what tables and columns are present, it has enough information to be able to generate and run a `SELECT` query. Now provide that functionality, and test that it works."
      ],
      "metadata": {
        "id": "f6053a2ca272"
      }
    },
    {
      "cell_type": "code",
      "source": [
        "def execute_query(sql: str) -> list[list[str]]:\n",
        "    \"\"\"Execute an SQL statement, returning the results.\"\"\"\n",
        "    print(f' - DB CALL: execute_query({sql})')\n",
        "\n",
        "    cursor = db_conn.cursor()\n",
        "\n",
        "    cursor.execute(sql)\n",
        "    return cursor.fetchall()\n",
        "\n",
        "\n",
        "execute_query(\"select * from products\")"
      ],
      "metadata": {
        "id": "9e405db8b3f6",
        "trusted": true,
        "execution": {
          "iopub.status.busy": "2025-04-02T02:45:05.500107Z",
          "iopub.execute_input": "2025-04-02T02:45:05.500931Z",
          "iopub.status.idle": "2025-04-02T02:45:05.513515Z",
          "shell.execute_reply.started": "2025-04-02T02:45:05.500894Z",
          "shell.execute_reply": "2025-04-02T02:45:05.512576Z"
        }
      },
      "outputs": [],
      "execution_count": null
    },
    {
      "cell_type": "markdown",
      "source": [
        "## Implement function calls\n",
        "\n",
        "Now you can put it all together in a call to the Gemini API.\n",
        "\n",
        "Function calling works by adding specific messages to a chat session. When function schemas are defined and made available to the model and a conversation is started, instead of returning a text response, the model may return a `function_call` instead. When this happens, the client must respond with a `function_response`, indicating the result of the call, and the conversation can continue on as normal.\n",
        "\n",
        "This function calling interaction normally happens manually, allowing you, the client, to validate and initiate the call. However the Python SDK also supports **automatic function calling**, where the supplied functions will be automatically invoked. This is a powerful feature and should be used with care, such as when the functions have no [side-effects](https://en.wikipedia.org/wiki/Side_effect_(computer_science)).\n",
        "\n",
        "Here's the state diagram representing the conversation flow with function calling. With automatic function calling, the bottom row is executed automatically by the Python SDK. With manual function calling, you write the code to run each step individually.\n",
        "\n",
        "![function calling state diagram](https://codelabs.developers.google.com/static/codelabs/gemini-function-calling/img/gemini-function-calling-overview_1440.png)"
      ],
      "metadata": {
        "id": "ac464dfb35a0"
      }
    },
    {
      "cell_type": "code",
      "source": [
        "# These are the Python functions defined above.\n",
        "db_tools = [list_tables, describe_table, execute_query]\n",
        "\n",
        "instruction = \"\"\"You are a helpful chatbot that can interact with an SQL database\n",
        "for a computer store. You will take the users questions and turn them into SQL\n",
        "queries using the tools available. Once you have the information you need, you will\n",
        "answer the user's question using the data returned.\n",
        "\n",
        "Use list_tables to see what tables are present, describe_table to understand the\n",
        "schema, and execute_query to issue an SQL SELECT query.\"\"\"\n",
        "\n",
        "client = genai.Client(api_key=GOOGLE_API_KEY)\n",
        "\n",
        "# Start a chat with automatic function calling enabled.\n",
        "chat = client.chats.create(\n",
        "    model=\"gemini-2.0-flash\",\n",
        "    config=types.GenerateContentConfig(\n",
        "        system_instruction=instruction,\n",
        "        tools=db_tools,\n",
        "    ),\n",
        ")"
      ],
      "metadata": {
        "id": "f4839540066d",
        "trusted": true,
        "execution": {
          "iopub.status.busy": "2025-04-02T02:45:05.514808Z",
          "iopub.execute_input": "2025-04-02T02:45:05.515159Z",
          "iopub.status.idle": "2025-04-02T02:45:05.670099Z",
          "shell.execute_reply.started": "2025-04-02T02:45:05.515128Z",
          "shell.execute_reply": "2025-04-02T02:45:05.669161Z"
        }
      },
      "outputs": [],
      "execution_count": null
    },
    {
      "cell_type": "markdown",
      "source": [
        "Now you can engage in a chat conversation where you can ask about the contents of the database."
      ],
      "metadata": {
        "id": "5f120977f1ee"
      }
    },
    {
      "cell_type": "code",
      "source": [
        "resp = chat.send_message(\"What is the cheapest product?\")\n",
        "print(f\"\\n{resp.text}\")"
      ],
      "metadata": {
        "id": "111cfb79338b",
        "trusted": true,
        "execution": {
          "iopub.status.busy": "2025-04-02T02:45:05.67137Z",
          "iopub.execute_input": "2025-04-02T02:45:05.671763Z",
          "iopub.status.idle": "2025-04-02T02:45:07.630049Z",
          "shell.execute_reply.started": "2025-04-02T02:45:05.671721Z",
          "shell.execute_reply": "2025-04-02T02:45:07.628994Z"
        }
      },
      "outputs": [],
      "execution_count": null
    },
    {
      "cell_type": "markdown",
      "source": [
        "Explore the chat session and ask your own questions. The 2.0 models are quite capable and can usually answer questions requiring multiple steps."
      ],
      "metadata": {
        "id": "d67f635191c8"
      }
    },
    {
      "cell_type": "code",
      "source": [
        "chat = client.chats.create(\n",
        "    model=\"gemini-2.0-flash\",\n",
        "    config=types.GenerateContentConfig(\n",
        "        system_instruction=instruction,\n",
        "        tools=db_tools,\n",
        "    ),\n",
        ")\n",
        "\n",
        "response = chat.send_message('What products should salesperson Alice focus on to round out her portfolio? Explain why.')\n",
        "print(f\"\\n{response.text}\")"
      ],
      "metadata": {
        "id": "647cbcc43993",
        "trusted": true,
        "execution": {
          "iopub.status.busy": "2025-04-02T02:46:34.472476Z",
          "iopub.execute_input": "2025-04-02T02:46:34.472877Z",
          "iopub.status.idle": "2025-04-02T02:46:40.123863Z",
          "shell.execute_reply.started": "2025-04-02T02:46:34.472841Z",
          "shell.execute_reply": "2025-04-02T02:46:40.12282Z"
        }
      },
      "outputs": [],
      "execution_count": null
    },
    {
      "cell_type": "markdown",
      "source": [
        "### Inspecting the conversation\n",
        "\n",
        "To see the calls that the model makes, and what the client returns in response, you can inspect the chat history. This helper function will print out each turn along with the relevant fields passed or returned."
      ],
      "metadata": {
        "id": "1f5bb6d9bd6a"
      }
    },
    {
      "cell_type": "code",
      "source": [
        "import textwrap\n",
        "\n",
        "\n",
        "def print_chat_turns(chat):\n",
        "    \"\"\"Prints out each turn in the chat history, including function calls and responses.\"\"\"\n",
        "    for event in chat.get_history():\n",
        "        print(f\"{event.role.capitalize()}:\")\n",
        "\n",
        "        for part in event.parts:\n",
        "            if txt := part.text:\n",
        "                print(f'  \"{txt}\"')\n",
        "            elif fn := part.function_call:\n",
        "                args = \", \".join(f\"{key}={val}\" for key, val in fn.args.items())\n",
        "                print(f\"  Function call: {fn.name}({args})\")\n",
        "            elif resp := part.function_response:\n",
        "                print(\"  Function response:\")\n",
        "                print(textwrap.indent(str(resp.response['result']), \"    \"))\n",
        "\n",
        "        print()\n",
        "\n",
        "\n",
        "print_chat_turns(chat)"
      ],
      "metadata": {
        "id": "639963cc64e2",
        "trusted": true,
        "execution": {
          "iopub.status.busy": "2025-04-02T02:46:17.079957Z",
          "iopub.execute_input": "2025-04-02T02:46:17.080272Z",
          "iopub.status.idle": "2025-04-02T02:46:17.088856Z",
          "shell.execute_reply.started": "2025-04-02T02:46:17.08024Z",
          "shell.execute_reply": "2025-04-02T02:46:17.087725Z"
        }
      },
      "outputs": [],
      "execution_count": null
    },
    {
      "cell_type": "markdown",
      "source": [
        "In this output you can see each of the conversational turns that were made. Note that the model doesn't remember anything outside of the chat history, so you can make changes to the database structure or data and the model will respond without needing any code changes - try this out!"
      ],
      "metadata": {
        "id": "8a17aeb2a3ef"
      }
    },
    {
      "cell_type": "markdown",
      "source": [
        "## Compositional function calling\n",
        "\n",
        "A powerful new feature in Gemini 2.0 is the model's ability to compose user-provided function calls together while generating code.\n",
        "\n",
        "This means that the model is able to take the available tools, generate code that uses it, and execute it all.\n",
        "\n",
        "The feature requires the Live API, so this step uses different setup code than most of the examples you have seen so far. As the Multimodal Live API is a bi-directional streaming service, everything is set up in advance and then executed. This is a little more complex but the result is quite powerful.\n",
        "\n",
        "First define a function that will handle streaming model output. It will stream text output, handle tool-calling and show the generated code that the model writes and executes to fulfill the task."
      ],
      "metadata": {
        "id": "l3NMteSYfg11"
      }
    },
    {
      "cell_type": "code",
      "source": [
        "from pprint import pformat\n",
        "from IPython.display import display, Image, Markdown\n",
        "\n",
        "\n",
        "async def handle_response(stream, tool_impl=None):\n",
        "  \"\"\"Stream output and handle any tool calls during the session.\"\"\"\n",
        "  all_responses = []\n",
        "\n",
        "  async for msg in stream.receive():\n",
        "    all_responses.append(msg)\n",
        "\n",
        "    if text := msg.text:\n",
        "      # Output any text chunks that are streamed back.\n",
        "      if len(all_responses) < 2 or not all_responses[-2].text:\n",
        "        # Display a header if this is the first text chunk.\n",
        "        display(Markdown('### Text'))\n",
        "\n",
        "      print(text, end='')\n",
        "\n",
        "    elif tool_call := msg.tool_call:\n",
        "      # Handle tool-call requests.\n",
        "      for fc in tool_call.function_calls:\n",
        "        display(Markdown('### Tool call'))\n",
        "\n",
        "        # Execute the tool and collect the result to return to the model.\n",
        "        if callable(tool_impl):\n",
        "          try:\n",
        "            result = tool_impl(**fc.args)\n",
        "          except Exception as e:\n",
        "            result = str(e)\n",
        "        else:\n",
        "          result = 'ok'\n",
        "\n",
        "        tool_response = types.LiveClientToolResponse(\n",
        "            function_responses=[types.FunctionResponse(\n",
        "                name=fc.name,\n",
        "                id=fc.id,\n",
        "                response={'result': result},\n",
        "            )]\n",
        "        )\n",
        "        await stream.send(input=tool_response)\n",
        "\n",
        "    elif msg.server_content and msg.server_content.model_turn:\n",
        "      # Print any messages showing code the model generated and ran.\n",
        "\n",
        "      for part in msg.server_content.model_turn.parts:\n",
        "          if code := part.executable_code:\n",
        "            display(Markdown(\n",
        "                f'### Code\\n```\\n{code.code}\\n```'))\n",
        "\n",
        "          elif result := part.code_execution_result:\n",
        "            display(Markdown(f'### Result: {result.outcome}\\n'\n",
        "                             f'```\\n{pformat(result.output)}\\n```'))\n",
        "\n",
        "          elif img := part.inline_data:\n",
        "            display(Image(img.data))\n",
        "\n",
        "  print()\n",
        "  return all_responses"
      ],
      "metadata": {
        "trusted": true,
        "execution": {
          "iopub.status.busy": "2025-04-02T02:46:17.090651Z",
          "iopub.execute_input": "2025-04-02T02:46:17.091097Z",
          "iopub.status.idle": "2025-04-02T02:46:17.107349Z",
          "shell.execute_reply.started": "2025-04-02T02:46:17.09105Z",
          "shell.execute_reply": "2025-04-02T02:46:17.106183Z"
        },
        "id": "AAtQzUpmfg11"
      },
      "outputs": [],
      "execution_count": null
    },
    {
      "cell_type": "markdown",
      "source": [
        "### Textual live database chat\n",
        "\n",
        "Now connect to the model and start a conversation.\n",
        "\n",
        "The Live API is a streaming API, so this example is fully pre-scripted and only has a single user input. Despite this, the request still requires the model to perform a bit of back-and-forth to interrogate the database, and you should see the model generate some code that uses the `execute_query` tool in a loop."
      ],
      "metadata": {
        "id": "3I92dP8ffg12"
      }
    },
    {
      "cell_type": "code",
      "source": [
        "model = 'gemini-2.0-flash-exp'\n",
        "live_client = genai.Client(api_key=GOOGLE_API_KEY,\n",
        "                           http_options=types.HttpOptions(api_version='v1alpha'))\n",
        "\n",
        "# Wrap the existing execute_query tool you used in the earlier example.\n",
        "execute_query_tool_def = types.FunctionDeclaration.from_callable(\n",
        "    client=live_client, callable=execute_query)\n",
        "\n",
        "# Provide the model with enough information to use the tool, such as describing\n",
        "# the database so it understands which SQL syntax to use.\n",
        "sys_int = \"\"\"You are a database interface. Use the `execute_query` function\n",
        "to answer the users questions by looking up information in the database,\n",
        "running any necessary queries and responding to the user.\n",
        "\n",
        "You need to look up table schema using sqlite3 syntax SQL, then once an\n",
        "answer is found be sure to tell the user. If the user is requesting an\n",
        "action, you must also execute the actions.\n",
        "\"\"\"\n",
        "\n",
        "config = {\n",
        "    \"response_modalities\": [\"TEXT\"],\n",
        "    \"system_instruction\": {\"parts\": [{\"text\": sys_int}]},\n",
        "    \"tools\": [\n",
        "        {\"code_execution\": {}},\n",
        "        {\"function_declarations\": [execute_query_tool_def.to_json_dict()]},\n",
        "    ],\n",
        "}\n",
        "\n",
        "async with live_client.aio.live.connect(model=model, config=config) as session:\n",
        "\n",
        "  message = \"Please generate and insert 5 new rows in the orders table.\"\n",
        "  print(f\"> {message}\\n\")\n",
        "\n",
        "  await session.send(input=message, end_of_turn=True)\n",
        "  await handle_response(session, tool_impl=execute_query)"
      ],
      "metadata": {
        "trusted": true,
        "execution": {
          "iopub.status.busy": "2025-04-02T02:46:17.108798Z",
          "iopub.execute_input": "2025-04-02T02:46:17.109246Z",
          "iopub.status.idle": "2025-04-02T02:46:20.977529Z",
          "shell.execute_reply.started": "2025-04-02T02:46:17.109202Z",
          "shell.execute_reply": "2025-04-02T02:46:20.976503Z"
        },
        "id": "TcMtJGFGfg12"
      },
      "outputs": [],
      "execution_count": null
    },
    {
      "cell_type": "markdown",
      "source": [
        "In the output from the previous step, you should see a `Code` section that shows code that the model generated in order to complete the task. It will look something like this:\n",
        "\n",
        "```py\n",
        "sql_statements = [ ... ]\n",
        "\n",
        "for sql in sql_statements:\n",
        "  print(default_api.execute_query(sql))\n",
        "```\n",
        "\n",
        "The model then runs this code (remotely), calling out to the provided tool when it reaches that part of the code. The `default_api` module contains the tools that you provided.\n",
        "\n",
        "This example simply executes in a loop, but the models are capable of more complex interactions with multiple tools, giving you a powerful agent framework that's effectively built in to the Gemini API."
      ],
      "metadata": {
        "id": "Kfe1nv1Qfg12"
      }
    },
    {
      "cell_type": "markdown",
      "source": [
        "### Plotting the database\n",
        "\n",
        "Try out the built-in agent capability with the next example. You may notice the model try to guess the database schema or environment. Often the model will make mistakes, but you can look through the `Text` output and watch as the model inspects the error, tries a new approach and learns from its mistakes.\n",
        "\n",
        "If the model doesn't return a plot, try running the cell again."
      ],
      "metadata": {
        "id": "dvF8ZaQMfg12"
      }
    },
    {
      "cell_type": "code",
      "source": [
        "async with live_client.aio.live.connect(model=model, config=config) as session:\n",
        "\n",
        "  message = \"Can you figure out the number of orders that were made by each of the staff?\"\n",
        "\n",
        "  print(f\"> {message}\\n\")\n",
        "  await session.send(input=message, end_of_turn=True)\n",
        "  await handle_response(session, tool_impl=execute_query)\n",
        "\n",
        "  message = \"Plot this as a python seaborn chart for me\"\n",
        "\n",
        "  print(f\"> {message}\\n\")\n",
        "  await session.send(input=message, end_of_turn=True)\n",
        "  await handle_response(session, tool_impl=execute_query)"
      ],
      "metadata": {
        "trusted": true,
        "execution": {
          "iopub.status.busy": "2025-04-02T02:46:20.97896Z",
          "iopub.execute_input": "2025-04-02T02:46:20.979323Z",
          "iopub.status.idle": "2025-04-02T02:46:28.825685Z",
          "shell.execute_reply.started": "2025-04-02T02:46:20.979291Z",
          "shell.execute_reply": "2025-04-02T02:46:28.824594Z"
        },
        "id": "aBtt75Xbfg12"
      },
      "outputs": [],
      "execution_count": null
    },
    {
      "cell_type": "markdown",
      "source": [
        "## Further reading\n",
        "\n",
        "To learn more about what the Gemini API can do with function calling, check out the [Function calling cookbook](https://github.com/google-gemini/cookbook/blob/main/quickstarts/Function_calling.ipynb) (see `Manual function calling` to understand how function calling works manually) as well as [Function calling config](https://github.com/google-gemini/cookbook/blob/main/quickstarts/Function_calling_config.ipynb), which gives you fine-grained control over how function calling is triggered.\n",
        "\n",
        "And stay tuned for day 4, where you will explore using function calling with grounding tools.\n",
        "\n",
        "*- [Mark McD](https://linktr.ee/markmcd)*"
      ],
      "metadata": {
        "id": "uQjf1XFwfg1-"
      }
    }
  ]
}