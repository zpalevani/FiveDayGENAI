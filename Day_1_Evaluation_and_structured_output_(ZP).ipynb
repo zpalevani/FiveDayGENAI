{
  "metadata": {
    "kernelspec": {
      "name": "python3",
      "display_name": "Python 3",
      "language": "python"
    },
    "language_info": {
      "name": "python",
      "version": "3.10.12",
      "mimetype": "text/x-python",
      "codemirror_mode": {
        "name": "ipython",
        "version": 3
      },
      "pygments_lexer": "ipython3",
      "nbconvert_exporter": "python",
      "file_extension": ".py"
    },
    "colab": {
      "provenance": [],
      "toc_visible": true,
      "name": "Day 1 - Evaluation and structured output (ZP)",
      "include_colab_link": true
    },
    "kaggle": {
      "accelerator": "none",
      "dataSources": [],
      "dockerImageVersionId": 30918,
      "isInternetEnabled": true,
      "language": "python",
      "sourceType": "notebook",
      "isGpuEnabled": false
    }
  },
  "nbformat_minor": 0,
  "nbformat": 4,
  "cells": [
    {
      "cell_type": "markdown",
      "metadata": {
        "id": "view-in-github",
        "colab_type": "text"
      },
      "source": [
        "<a href=\"https://colab.research.google.com/github/zpalevani/FiveDayGENAI/blob/main/Day_1_Evaluation_and_structured_output_(ZP).ipynb\" target=\"_parent\"><img src=\"https://colab.research.google.com/assets/colab-badge.svg\" alt=\"Open In Colab\"/></a>"
      ]
    },
    {
      "cell_type": "markdown",
      "source": [
        "Copyright 2025 Google LLC."
      ],
      "metadata": {
        "id": "IX3XNlN_9xf7"
      }
    },
    {
      "cell_type": "code",
      "source": [
        "# @title Licensed under the Apache License, Version 2.0 (the \"License\");\n",
        "# you may not use this file except in compliance with the License.\n",
        "# You may obtain a copy of the License at\n",
        "#\n",
        "# https://www.apache.org/licenses/LICENSE-2.0\n",
        "#\n",
        "# Unless required by applicable law or agreed to in writing, software\n",
        "# distributed under the License is distributed on an \"AS IS\" BASIS,\n",
        "# WITHOUT WARRANTIES OR CONDITIONS OF ANY KIND, either express or implied.\n",
        "# See the License for the specific language governing permissions and\n",
        "# limitations under the License."
      ],
      "metadata": {
        "trusted": true,
        "jupyter": {
          "source_hidden": true
        },
        "id": "Zxbnfq3d9xf8"
      },
      "outputs": [],
      "execution_count": null
    },
    {
      "cell_type": "markdown",
      "source": [
        "# Day 1 - Evaluation and structured output\n",
        "\n",
        "## Overview\n",
        "\n",
        "Welcome back to the Kaggle 5-day Generative AI course. In this notebook, you'll learn some techniques for evaluating the output of a language model. As part of the evaluation, you will also use Gemini's structured data capability to produce evaluation results as instances of Python types.\n",
        "\n",
        "Note: This notebook is more code-heavy than the first Day 1 notebook ([Prompting](https://www.kaggle.com/code/markishere/day-1-prompting/)). This notebook is not a prerequisite for days 2 and beyond, so feel free to skip over it, or come back later in the week. If you have not yet tried the [Prompting](https://www.kaggle.com/code/markishere/day-1-prompting/) notebook, start there first as it introduces the fundamentals for interacting with LLMs.\n",
        "\n",
        "Also check out the **bonus whitepaper** on [Evaluating Large Language Models](https://services.google.com/fh/files/blogs/neurips_evaluation.pdf).\n",
        "\n",
        "## For help\n",
        "\n",
        "**Common issues are covered in the [FAQ and troubleshooting guide](https://www.kaggle.com/code/markishere/day-0-troubleshooting-and-faqs).**\n"
      ],
      "metadata": {
        "id": "jYWMmQV7SJt6"
      }
    },
    {
      "cell_type": "markdown",
      "source": [
        "## Setup\n",
        "\n",
        "Install the Python SDK."
      ],
      "metadata": {
        "id": "ZrE2lTyXSMmz"
      }
    },
    {
      "cell_type": "code",
      "source": [
        "!pip install -Uq \"google-genai==1.7.0\""
      ],
      "metadata": {
        "id": "lEwSQePeF6w-",
        "trusted": true,
        "execution": {
          "iopub.status.busy": "2025-03-30T21:20:37.24572Z",
          "iopub.execute_input": "2025-03-30T21:20:37.246045Z",
          "iopub.status.idle": "2025-03-30T21:20:43.971046Z",
          "shell.execute_reply.started": "2025-03-30T21:20:37.246009Z",
          "shell.execute_reply": "2025-03-30T21:20:43.969753Z"
        }
      },
      "outputs": [],
      "execution_count": null
    },
    {
      "cell_type": "code",
      "source": [
        "from google import genai\n",
        "from google.genai import types\n",
        "\n",
        "from IPython.display import Markdown, display\n",
        "\n",
        "genai.__version__"
      ],
      "metadata": {
        "id": "VWZlEwomGDir",
        "trusted": true,
        "execution": {
          "iopub.status.busy": "2025-03-30T21:20:47.107068Z",
          "iopub.execute_input": "2025-03-30T21:20:47.107528Z",
          "iopub.status.idle": "2025-03-30T21:20:48.644939Z",
          "shell.execute_reply.started": "2025-03-30T21:20:47.107464Z",
          "shell.execute_reply": "2025-03-30T21:20:48.643815Z"
        }
      },
      "outputs": [],
      "execution_count": null
    },
    {
      "cell_type": "markdown",
      "source": [
        "### Set up your API key\n",
        "\n",
        "To run the following cell, your API key must be stored it in a [Kaggle secret](https://www.kaggle.com/discussions/product-feedback/114053) named `GOOGLE_API_KEY`.\n",
        "\n",
        "If you don't already have an API key, you can grab one from [AI Studio](https://aistudio.google.com/app/apikey). You can find [detailed instructions in the docs](https://ai.google.dev/gemini-api/docs/api-key).\n",
        "\n",
        "To make the key available through Kaggle secrets, choose `Secrets` from the `Add-ons` menu and follow the instructions to add your key or enable it for this notebook."
      ],
      "metadata": {
        "id": "rbkU-Hfx9xf_"
      }
    },
    {
      "cell_type": "code",
      "source": [
        "from kaggle_secrets import UserSecretsClient\n",
        "\n",
        "client = genai.Client(api_key=UserSecretsClient().get_secret(\"GeminiAPI\"))"
      ],
      "metadata": {
        "id": "UteFYo7jGHRf",
        "trusted": true,
        "execution": {
          "iopub.status.busy": "2025-03-30T21:21:33.383843Z",
          "iopub.execute_input": "2025-03-30T21:21:33.384248Z",
          "iopub.status.idle": "2025-03-30T21:21:33.92285Z",
          "shell.execute_reply.started": "2025-03-30T21:21:33.384221Z",
          "shell.execute_reply": "2025-03-30T21:21:33.921608Z"
        }
      },
      "outputs": [],
      "execution_count": null
    },
    {
      "cell_type": "markdown",
      "source": [
        "If you received an error response along the lines of `No user secrets exist for kernel id ...`, then you need to add your API key via `Add-ons`, `Secrets` **and** enable it.\n",
        "\n",
        "![Screenshot of the checkbox to enable GOOGLE_API_KEY secret](https://storage.googleapis.com/kaggle-media/Images/5gdai_sc_3.png)"
      ],
      "metadata": {
        "id": "u4kr0EhH9xgA"
      }
    },
    {
      "cell_type": "markdown",
      "source": [
        "### Automated retry\n",
        "\n",
        "This codelab sends a lot of requests, so set up an automatic retry\n",
        "that ensures your requests are retried when per-minute quota is reached."
      ],
      "metadata": {
        "id": "eCa4OX2DNyLI"
      }
    },
    {
      "cell_type": "code",
      "source": [
        "from google.api_core import retry\n",
        "\n",
        "is_retriable = lambda e: (isinstance(e, genai.errors.APIError) and e.code in {429, 503})\n",
        "\n",
        "if not hasattr(genai.models.Models.generate_content, '__wrapped__'):\n",
        "  genai.models.Models.generate_content = retry.Retry(\n",
        "      predicate=is_retriable)(genai.models.Models.generate_content)"
      ],
      "metadata": {
        "id": "V8as-_Hnr_cj",
        "trusted": true,
        "execution": {
          "iopub.status.busy": "2025-03-30T21:21:39.257426Z",
          "iopub.execute_input": "2025-03-30T21:21:39.257843Z",
          "iopub.status.idle": "2025-03-30T21:21:39.579673Z",
          "shell.execute_reply.started": "2025-03-30T21:21:39.257815Z",
          "shell.execute_reply": "2025-03-30T21:21:39.578572Z"
        }
      },
      "outputs": [],
      "execution_count": null
    },
    {
      "cell_type": "markdown",
      "source": [
        "## Evaluation"
      ],
      "metadata": {
        "id": "ZKH1is0gSO0p"
      }
    },
    {
      "cell_type": "markdown",
      "source": [
        "When using LLMs in real-world cases, it's important to understand how well they are performing. The open-ended generation capabilities of LLMs can make many cases difficult to measure. In this notebook you will walk through some simple techniques for evaluating LLM outputs and understanding their performance.\n",
        "\n",
        "For this example, you'll evaluate a summarisation task using the [Gemini 1.5 Pro technical report](https://storage.googleapis.com/cloud-samples-data/generative-ai/pdf/2403.05530.pdf). Start by downloading the PDF to the notebook environment, and uploading that copy for use with the Gemini API."
      ],
      "metadata": {
        "id": "ToUMpZTgGnyh"
      }
    },
    {
      "cell_type": "code",
      "source": [
        "!wget -nv -O gemini.pdf https://storage.googleapis.com/cloud-samples-data/generative-ai/pdf/2403.05530.pdf\n",
        "\n",
        "document_file = client.files.upload(file='gemini.pdf')"
      ],
      "metadata": {
        "id": "VVo85Inrn65Z",
        "trusted": true,
        "execution": {
          "iopub.status.busy": "2025-03-30T21:21:44.135034Z",
          "iopub.execute_input": "2025-03-30T21:21:44.135631Z",
          "iopub.status.idle": "2025-03-30T21:21:45.056466Z",
          "shell.execute_reply.started": "2025-03-30T21:21:44.135597Z",
          "shell.execute_reply": "2025-03-30T21:21:45.055317Z"
        }
      },
      "outputs": [],
      "execution_count": null
    },
    {
      "cell_type": "markdown",
      "source": [
        "### Summarise a document\n",
        "\n",
        "The summarisation request used here is fairly basic. It targets the training content specifically but provides no guidance otherwise."
      ],
      "metadata": {
        "id": "OziWUFKNqQEy"
      }
    },
    {
      "cell_type": "code",
      "source": [
        "request = 'Tell me about the training process used here.'\n",
        "\n",
        "def summarise_doc(request: str) -> str:\n",
        "  \"\"\"Execute the request on the uploaded document.\"\"\"\n",
        "  # Set the temperature low to stabilise the output.\n",
        "  config = types.GenerateContentConfig(temperature=0.0)\n",
        "  response = client.models.generate_content(\n",
        "      model='gemini-2.0-flash',\n",
        "      config=config,\n",
        "      contents=[request, document_file],\n",
        "  )\n",
        "\n",
        "  return response.text\n",
        "\n",
        "summary = summarise_doc(request)\n",
        "Markdown(summary)"
      ],
      "metadata": {
        "id": "Jxx92-z90tPS",
        "trusted": true,
        "execution": {
          "iopub.status.busy": "2025-03-30T21:21:51.3039Z",
          "iopub.execute_input": "2025-03-30T21:21:51.304415Z",
          "iopub.status.idle": "2025-03-30T21:22:04.410388Z",
          "shell.execute_reply.started": "2025-03-30T21:21:51.304374Z",
          "shell.execute_reply": "2025-03-30T21:22:04.409127Z"
        }
      },
      "outputs": [],
      "execution_count": null
    },
    {
      "cell_type": "markdown",
      "source": [
        "### Define an evaluator\n",
        "\n",
        "For a task like this, you may wish to evaluate a number of aspects, like how well the model followed the prompt (\"instruction following\"), whether it included relevant data in the prompt (\"groundedness\"), how easy the text is to read (\"fluency\"), or other factors like \"verbosity\" or \"quality\".\n",
        "\n",
        "You can instruct an LLM to perform these tasks in a similar manner to how you would instruct a human rater: with a clear definition and [assessment rubric](https://en.wikipedia.org/wiki/Rubric_%28academic%29).\n",
        "\n",
        "In this step, you define an evaluation agent using a pre-written \"summarisation\" prompt and use it to gauge the quality of the generated summary.\n",
        "\n",
        "Note: For more pre-written evaluation prompts covering groundedness, safety, coherence and more, check out this [comprehensive list of model-based evaluation prompts](https://cloud.google.com/vertex-ai/generative-ai/docs/models/metrics-templates) from the Google Cloud docs."
      ],
      "metadata": {
        "id": "6rR0v4Iw64x0"
      }
    },
    {
      "cell_type": "code",
      "source": [
        "import enum\n",
        "\n",
        "# Define the evaluation prompt\n",
        "SUMMARY_PROMPT = \"\"\"\\\n",
        "# Instruction\n",
        "You are an expert evaluator. Your task is to evaluate the quality of the responses generated by AI models.\n",
        "We will provide you with the user input and an AI-generated responses.\n",
        "You should first read the user input carefully for analyzing the task, and then evaluate the quality of the responses based on the Criteria provided in the Evaluation section below.\n",
        "You will assign the response a rating following the Rating Rubric and Evaluation Steps. Give step-by-step explanations for your rating, and only choose ratings from the Rating Rubric.\n",
        "\n",
        "# Evaluation\n",
        "## Metric Definition\n",
        "You will be assessing summarization quality, which measures the overall ability to summarize text. Pay special attention to length constraints, such as in X words or in Y sentences. The instruction for performing a summarization task and the context to be summarized are provided in the user prompt. The response should be shorter than the text in the context. The response should not contain information that is not present in the context.\n",
        "\n",
        "## Criteria\n",
        "Instruction following: The response demonstrates a clear understanding of the summarization task instructions, satisfying all of the instruction's requirements.\n",
        "Groundedness: The response contains information included only in the context. The response does not reference any outside information.\n",
        "Conciseness: The response summarizes the relevant details in the original text without a significant loss in key information without being too verbose or terse.\n",
        "Fluency: The response is well-organized and easy to read.\n",
        "\n",
        "## Rating Rubric\n",
        "5: (Very good). The summary follows instructions, is grounded, is concise, and fluent.\n",
        "4: (Good). The summary follows instructions, is grounded, concise, and fluent.\n",
        "3: (Ok). The summary mostly follows instructions, is grounded, but is not very concise and is not fluent.\n",
        "2: (Bad). The summary is grounded, but does not follow the instructions.\n",
        "1: (Very bad). The summary is not grounded.\n",
        "\n",
        "## Evaluation Steps\n",
        "STEP 1: Assess the response in aspects of instruction following, groundedness, conciseness, and verbosity according to the criteria.\n",
        "STEP 2: Score based on the rubric.\n",
        "\n",
        "# User Inputs and AI-generated Response\n",
        "## User Inputs\n",
        "\n",
        "### Prompt\n",
        "{prompt}\n",
        "\n",
        "## AI-generated Response\n",
        "{response}\n",
        "\"\"\"\n",
        "\n",
        "# Define a structured enum class to capture the result.\n",
        "class SummaryRating(enum.Enum):\n",
        "  VERY_GOOD = '5'\n",
        "  GOOD = '4'\n",
        "  OK = '3'\n",
        "  BAD = '2'\n",
        "  VERY_BAD = '1'\n",
        "\n",
        "\n",
        "def eval_summary(prompt, ai_response):\n",
        "  \"\"\"Evaluate the generated summary against the prompt used.\"\"\"\n",
        "\n",
        "  chat = client.chats.create(model='gemini-2.0-flash')\n",
        "\n",
        "  # Generate the full text response.\n",
        "  response = chat.send_message(\n",
        "      message=SUMMARY_PROMPT.format(prompt=prompt, response=ai_response)\n",
        "  )\n",
        "  verbose_eval = response.text\n",
        "\n",
        "  # Coerce into the desired structure.\n",
        "  structured_output_config = types.GenerateContentConfig(\n",
        "      response_mime_type=\"application/json\",\n",
        "      response_schema=SummaryRating,\n",
        "  )\n",
        "  response = chat.send_message(\n",
        "      message=\"Convert the final score.\",\n",
        "      config=structured_output_config,\n",
        "  )\n",
        "  structured_eval = response.parsed\n",
        "\n",
        "  return verbose_eval, structured_eval\n",
        "\n",
        "\n",
        "text_eval, struct_eval = eval_summary(prompt=[request, document_file], ai_response=summary)\n",
        "Markdown(text_eval)"
      ],
      "metadata": {
        "id": "xEAXtJte-Ajv",
        "trusted": true,
        "execution": {
          "iopub.status.busy": "2025-03-30T21:22:12.835286Z",
          "iopub.execute_input": "2025-03-30T21:22:12.835741Z",
          "iopub.status.idle": "2025-03-30T21:22:14.001084Z",
          "shell.execute_reply.started": "2025-03-30T21:22:12.835708Z",
          "shell.execute_reply": "2025-03-30T21:22:13.999723Z"
        }
      },
      "outputs": [],
      "execution_count": null
    },
    {
      "cell_type": "markdown",
      "source": [
        "In this example, the model generated a textual justification that was set up in a chat context. This full text response is useful both for human interpretation and for giving the model a place to \"collect notes\" while it assesses the text and produces a final score. This \"note taking\" or \"thinking\" strategy typically works well with auto-regressive models, where the generated text is passed back into the model at each generation step. This means the working \"notes\" are used when generating final result output.\n",
        "\n",
        "In the next turn, the model converts the text output into a structured response. If you want to aggregate scores or use them programatically then you want to avoid parsing the unstructured text output. Here the `SummaryRating` schema is passed, so the model converts the chat history into an instance of the `SummaryRating` enum."
      ],
      "metadata": {
        "id": "qfkQ0lUByy2o"
      }
    },
    {
      "cell_type": "code",
      "source": [
        "struct_eval"
      ],
      "metadata": {
        "id": "Ow9J9tgORiqt",
        "trusted": true,
        "execution": {
          "iopub.status.busy": "2025-03-30T21:25:48.62538Z",
          "iopub.execute_input": "2025-03-30T21:25:48.625882Z",
          "iopub.status.idle": "2025-03-30T21:25:48.633829Z",
          "shell.execute_reply.started": "2025-03-30T21:25:48.62585Z",
          "shell.execute_reply": "2025-03-30T21:25:48.632208Z"
        }
      },
      "outputs": [],
      "execution_count": null
    },
    {
      "cell_type": "markdown",
      "source": [
        "### Make the summary prompt better or worse\n",
        "\n",
        "Gemini models tend to be quite good at tasks like direct summarisation without much prompting, so you should expect to see a result like `GOOD` or `VERY_GOOD` on the previous task, even with a rudimentary prompt. Run it a few times to get a feel for the average response.\n",
        "\n",
        "To explore how to influence the summarisation output, consider what you might change in the summary request prompt to change the result. Take a look at the evaluation `SUMMARY_PROMPT` for some ideas.\n",
        "\n",
        "Try the following tweaks and see how they positively or negatively change the result:\n",
        "* Be specific with the size of the summary,\n",
        "* Request specific information,\n",
        "* Ask about information that is not in the document,\n",
        "* Ask for different degrees of summarisation (such as \"explain like I'm 5\" or \"with full technical depth\")"
      ],
      "metadata": {
        "id": "ox04QsdMuo59"
      }
    },
    {
      "cell_type": "code",
      "source": [
        "new_prompt = \"ELI5 the training process\"\n",
        "# Try:\n",
        "#  ELI5 the training process\n",
        "#  Summarise the needle/haystack evaluation technique in 1 line\n",
        "#  Describe the model architecture to someone with a civil engineering degree\n",
        "#  What is the best LLM?\n",
        "\n",
        "if not new_prompt:\n",
        "  raise ValueError(\"Try setting a new summarisation prompt.\")\n",
        "\n",
        "\n",
        "def run_and_eval_summary(prompt):\n",
        "  \"\"\"Generate and evaluate the summary using the new prompt.\"\"\"\n",
        "  summary = summarise_doc(new_prompt)\n",
        "  display(Markdown(summary + '\\n-----'))\n",
        "\n",
        "  text, struct = eval_summary([new_prompt, document_file], summary)\n",
        "  display(Markdown(text + '\\n-----'))\n",
        "  print(struct)\n",
        "\n",
        "run_and_eval_summary(new_prompt)"
      ],
      "metadata": {
        "id": "u7TPwfAquvbb",
        "trusted": true,
        "execution": {
          "iopub.status.busy": "2025-03-30T21:25:53.601844Z",
          "iopub.execute_input": "2025-03-30T21:25:53.60232Z",
          "iopub.status.idle": "2025-03-30T21:26:05.966767Z",
          "shell.execute_reply.started": "2025-03-30T21:25:53.602257Z",
          "shell.execute_reply": "2025-03-30T21:26:05.965584Z"
        }
      },
      "outputs": [],
      "execution_count": null
    },
    {
      "cell_type": "markdown",
      "source": [
        "## Evaluating in practice\n",
        "\n",
        "Evaluation has many practical uses, for example:\n",
        "* You can quickly iterate on a prompt with a small set of test documents,\n",
        "* You can compare different models to find what works best for your needs, such as finding the trade-off between price and performance, or finding the best performance for a specific task.\n",
        "* When pushing changes to a model or prompt in a production system, you can verify that the system does not regress in quality.\n",
        "\n",
        "In this section you will try two different evaluation approaches."
      ],
      "metadata": {
        "id": "Q4q_4Fls9nkl"
      }
    },
    {
      "cell_type": "markdown",
      "source": [
        "### Pointwise evaluation\n",
        "\n",
        "The technique used above, where you evaluate a single input/output pair against some criteria is known as pointwise evaluation. This is useful for evaluating singular outputs in an absolute sense, such as \"was it good or bad?\"\n",
        "\n",
        "In this exercise, you will try different guidance prompts with a set of questions."
      ],
      "metadata": {
        "id": "v3xaSKwCXa7G"
      }
    },
    {
      "cell_type": "code",
      "source": [
        "import functools\n",
        "\n",
        "# Try these instructions, or edit and add your own.\n",
        "terse_guidance = \"Answer the following question in a single sentence, or as close to that as possible.\"\n",
        "moderate_guidance = \"Provide a brief answer to the following question, use a citation if necessary, but only enough to answer the question.\"\n",
        "cited_guidance = \"Provide a thorough, detailed answer to the following question, citing the document and supplying additional background information as much as possible.\"\n",
        "guidance_options = {\n",
        "    'Terse': terse_guidance,\n",
        "    'Moderate': moderate_guidance,\n",
        "    'Cited': cited_guidance,\n",
        "}\n",
        "\n",
        "questions = [\n",
        "    # Un-comment one or more questions to try here, or add your own.\n",
        "    # Evaluating more questions will take more time, but produces results\n",
        "    # with higher confidence. In a production system, you may have hundreds\n",
        "    # of questions to evaluate a complex system.\n",
        "\n",
        "    # \"What metric(s) are used to evaluate long context performance?\",\n",
        "    \"How does the model perform on code tasks?\",\n",
        "    \"How many layers does it have?\",\n",
        "    # \"Why is it called Gemini?\",\n",
        "]\n",
        "\n",
        "if not questions:\n",
        "  raise NotImplementedError('Add some questions to evaluate!')\n",
        "\n",
        "\n",
        "@functools.cache\n",
        "def answer_question(question: str, guidance: str = '') -> str:\n",
        "  \"\"\"Generate an answer to the question using the uploaded document and guidance.\"\"\"\n",
        "  config = types.GenerateContentConfig(\n",
        "      temperature=0.0,\n",
        "      system_instruction=guidance,\n",
        "  )\n",
        "  response = client.models.generate_content(\n",
        "      model='gemini-2.0-flash',\n",
        "      config=config,\n",
        "      contents=[question, document_file],\n",
        "  )\n",
        "\n",
        "  return response.text\n",
        "\n",
        "\n",
        "answer = answer_question(questions[0], terse_guidance)\n",
        "Markdown(answer)"
      ],
      "metadata": {
        "id": "fHfcBX7dZtVW",
        "trusted": true,
        "execution": {
          "iopub.status.busy": "2025-03-30T21:26:18.597105Z",
          "iopub.execute_input": "2025-03-30T21:26:18.597564Z",
          "iopub.status.idle": "2025-03-30T21:26:28.809167Z",
          "shell.execute_reply.started": "2025-03-30T21:26:18.597527Z",
          "shell.execute_reply": "2025-03-30T21:26:28.807863Z"
        }
      },
      "outputs": [],
      "execution_count": null
    },
    {
      "cell_type": "markdown",
      "source": [
        "Now set up a question-answering evaluator, much like before, but using the [pointwise QA evaluation prompt](https://cloud.google.com/vertex-ai/generative-ai/docs/models/metrics-templates#pointwise_question_answering_quality)."
      ],
      "metadata": {
        "id": "ZRabO8hok339"
      }
    },
    {
      "cell_type": "code",
      "source": [
        "import enum\n",
        "\n",
        "QA_PROMPT = \"\"\"\\\n",
        "# Instruction\n",
        "You are an expert evaluator. Your task is to evaluate the quality of the responses generated by AI models.\n",
        "We will provide you with the user prompt and an AI-generated responses.\n",
        "You should first read the user prompt carefully for analyzing the task, and then evaluate the quality of the responses based on and rules provided in the Evaluation section below.\n",
        "\n",
        "# Evaluation\n",
        "## Metric Definition\n",
        "You will be assessing question answering quality, which measures the overall quality of the answer to the question in the user prompt. Pay special attention to length constraints, such as in X words or in Y sentences. The instruction for performing a question-answering task is provided in the user prompt. The response should not contain information that is not present in the context (if it is provided).\n",
        "\n",
        "You will assign the writing response a score from 5, 4, 3, 2, 1, following the Rating Rubric and Evaluation Steps.\n",
        "Give step-by-step explanations for your scoring, and only choose scores from 5, 4, 3, 2, 1.\n",
        "\n",
        "## Criteria Definition\n",
        "Instruction following: The response demonstrates a clear understanding of the question answering task instructions, satisfying all of the instruction's requirements.\n",
        "Groundedness: The response contains information included only in the context if the context is present in the user prompt. The response does not reference any outside information.\n",
        "Completeness: The response completely answers the question with sufficient detail.\n",
        "Fluent: The response is well-organized and easy to read.\n",
        "\n",
        "## Rating Rubric\n",
        "5: (Very good). The answer follows instructions, is grounded, complete, and fluent.\n",
        "4: (Good). The answer follows instructions, is grounded, complete, but is not very fluent.\n",
        "3: (Ok). The answer mostly follows instructions, is grounded, answers the question partially and is not very fluent.\n",
        "2: (Bad). The answer does not follow the instructions very well, is incomplete or not fully grounded.\n",
        "1: (Very bad). The answer does not follow the instructions, is wrong and not grounded.\n",
        "\n",
        "## Evaluation Steps\n",
        "STEP 1: Assess the response in aspects of instruction following, groundedness,completeness, and fluency according to the criteria.\n",
        "STEP 2: Score based on the rubric.\n",
        "\n",
        "# User Inputs and AI-generated Response\n",
        "## User Inputs\n",
        "### Prompt\n",
        "{prompt}\n",
        "\n",
        "## AI-generated Response\n",
        "{response}\n",
        "\"\"\"\n",
        "\n",
        "class AnswerRating(enum.Enum):\n",
        "  VERY_GOOD = '5'\n",
        "  GOOD = '4'\n",
        "  OK = '3'\n",
        "  BAD = '2'\n",
        "  VERY_BAD = '1'\n",
        "\n",
        "\n",
        "@functools.cache\n",
        "def eval_answer(prompt, ai_response, n=1):\n",
        "  \"\"\"Evaluate the generated answer against the prompt/question used.\"\"\"\n",
        "  chat = client.chats.create(model='gemini-2.0-flash')\n",
        "\n",
        "  # Generate the full text response.\n",
        "  response = chat.send_message(\n",
        "      message=QA_PROMPT.format(prompt=[prompt, document_file], response=ai_response)\n",
        "  )\n",
        "  verbose_eval = response.text\n",
        "\n",
        "  # Coerce into the desired structure.\n",
        "  structured_output_config = types.GenerateContentConfig(\n",
        "      response_mime_type=\"application/json\",\n",
        "      response_schema=AnswerRating,\n",
        "  )\n",
        "  response = chat.send_message(\n",
        "      message=\"Convert the final score.\",\n",
        "      config=structured_output_config,\n",
        "  )\n",
        "  structured_eval = response.parsed\n",
        "\n",
        "  return verbose_eval, structured_eval\n",
        "\n",
        "\n",
        "text_eval, struct_eval = eval_answer(prompt=questions[0], ai_response=answer)\n",
        "display(Markdown(text_eval))\n",
        "print(struct_eval)"
      ],
      "metadata": {
        "id": "rfh-ZDAik2h2",
        "trusted": true,
        "execution": {
          "iopub.status.busy": "2025-03-30T21:26:46.653702Z",
          "iopub.execute_input": "2025-03-30T21:26:46.654094Z",
          "iopub.status.idle": "2025-03-30T21:26:47.74086Z",
          "shell.execute_reply.started": "2025-03-30T21:26:46.654068Z",
          "shell.execute_reply": "2025-03-30T21:26:47.73968Z"
        }
      },
      "outputs": [],
      "execution_count": null
    },
    {
      "cell_type": "markdown",
      "source": [
        "Now run the evaluation task in a loop. Note that the guidance instruction is hidden from the evaluation agent. If you passed the guidance prompt, the model would score based on whether it followed that guidance, but for this task the goal is to find the best overall result based on the user's question, not the developers instruction."
      ],
      "metadata": {
        "id": "S8x8LgTspwAu"
      }
    },
    {
      "cell_type": "code",
      "source": [
        "import collections\n",
        "import itertools\n",
        "\n",
        "# Number of times to repeat each task in order to reduce error and calculate an average.\n",
        "# Increasing it will take longer but give better results, try 2 or 3 to start.\n",
        "NUM_ITERATIONS = 1\n",
        "\n",
        "scores = collections.defaultdict(int)\n",
        "responses = collections.defaultdict(list)\n",
        "\n",
        "for question in questions:\n",
        "  display(Markdown(f'## {question}'))\n",
        "  for guidance, guide_prompt in guidance_options.items():\n",
        "\n",
        "    for n in range(NUM_ITERATIONS):\n",
        "      # Generate a response.\n",
        "      answer = answer_question(question, guide_prompt)\n",
        "\n",
        "      # Evaluate the response (note that the guidance prompt is not passed).\n",
        "      written_eval, struct_eval = eval_answer(question, answer, n)\n",
        "      print(f'{guidance}: {struct_eval}')\n",
        "\n",
        "      # Save the numeric score.\n",
        "      scores[guidance] += int(struct_eval.value)\n",
        "\n",
        "      # Save the responses, in case you wish to inspect them.\n",
        "      responses[(guidance, question)].append((answer, written_eval))\n"
      ],
      "metadata": {
        "id": "RZGzduJNmT9v",
        "trusted": true,
        "execution": {
          "iopub.status.busy": "2025-03-30T21:26:55.027893Z",
          "iopub.execute_input": "2025-03-30T21:26:55.028269Z",
          "iopub.status.idle": "2025-03-30T21:27:52.097427Z",
          "shell.execute_reply.started": "2025-03-30T21:26:55.02824Z",
          "shell.execute_reply": "2025-03-30T21:27:52.096036Z"
        }
      },
      "outputs": [],
      "execution_count": null
    },
    {
      "cell_type": "markdown",
      "source": [
        "Now aggregate the scores to see how each prompt performed."
      ],
      "metadata": {
        "id": "93aGk7IP1DI_"
      }
    },
    {
      "cell_type": "code",
      "source": [
        "for guidance, score in scores.items():\n",
        "  avg_score = score / (NUM_ITERATIONS * len(questions))\n",
        "  nearest = AnswerRating(str(round(avg_score)))\n",
        "  print(f'{guidance}: {avg_score:.2f} - {nearest.name}')"
      ],
      "metadata": {
        "id": "1s2dgear1E0w",
        "trusted": true,
        "execution": {
          "iopub.status.busy": "2025-03-30T21:27:52.09947Z",
          "iopub.execute_input": "2025-03-30T21:27:52.099994Z",
          "iopub.status.idle": "2025-03-30T21:27:52.108277Z",
          "shell.execute_reply.started": "2025-03-30T21:27:52.099947Z",
          "shell.execute_reply": "2025-03-30T21:27:52.106982Z"
        }
      },
      "outputs": [],
      "execution_count": null
    },
    {
      "cell_type": "markdown",
      "source": [
        "### Pairwise evaluation\n",
        "\n",
        "The pointwise evaluation prompt used in the previous step has 5 levels of grading in the output. This may be too coarse for your system, or perhaps you wish to improve on a prompt that is already \"very good\".\n",
        "\n",
        "Another approach to evaluation is to compare two outputs against each other. This is pairwise evaluation, and is a key step in ranking and sorting algorithms, which allows you to use it to rank your prompts either instead of, or in addition to the pointwise approach.\n",
        "\n",
        "This step implements pairwise evaluation using the [pairwise QA quality prompt](https://cloud.google.com/vertex-ai/generative-ai/docs/models/metrics-templates#pairwise_question_answering_quality) from the Google Cloud docs."
      ],
      "metadata": {
        "id": "kthCa72FdTsE"
      }
    },
    {
      "cell_type": "code",
      "source": [
        "QA_PAIRWISE_PROMPT = \"\"\"\\\n",
        "# Instruction\n",
        "You are an expert evaluator. Your task is to evaluate the quality of the responses generated by two AI models. We will provide you with the user input and a pair of AI-generated responses (Response A and Response B). You should first read the user input carefully for analyzing the task, and then evaluate the quality of the responses based on the Criteria provided in the Evaluation section below.\n",
        "\n",
        "You will first judge responses individually, following the Rating Rubric and Evaluation Steps. Then you will give step-by-step explanations for your judgment, compare results to declare the winner based on the Rating Rubric and Evaluation Steps.\n",
        "\n",
        "# Evaluation\n",
        "## Metric Definition\n",
        "You will be assessing question answering quality, which measures the overall quality of the answer to the question in the user prompt. Pay special attention to length constraints, such as in X words or in Y sentences. The instruction for performing a question-answering task is provided in the user prompt. The response should not contain information that is not present in the context (if it is provided).\n",
        "\n",
        "## Criteria\n",
        "Instruction following: The response demonstrates a clear understanding of the question answering task instructions, satisfying all of the instruction's requirements.\n",
        "Groundedness: The response contains information included only in the context if the context is present in the user prompt. The response does not reference any outside information.\n",
        "Completeness: The response completely answers the question with sufficient detail.\n",
        "Fluent: The response is well-organized and easy to read.\n",
        "\n",
        "## Rating Rubric\n",
        "\"A\": Response A answers the given question as per the criteria better than response B.\n",
        "\"SAME\": Response A and B answers the given question equally well as per the criteria.\n",
        "\"B\": Response B answers the given question as per the criteria better than response A.\n",
        "\n",
        "## Evaluation Steps\n",
        "STEP 1: Analyze Response A based on the question answering quality criteria: Determine how well Response A fulfills the user requirements, is grounded in the context, is complete and fluent, and provides assessment according to the criterion.\n",
        "STEP 2: Analyze Response B based on the question answering quality criteria: Determine how well Response B fulfills the user requirements, is grounded in the context, is complete and fluent, and provides assessment according to the criterion.\n",
        "STEP 3: Compare the overall performance of Response A and Response B based on your analyses and assessment.\n",
        "STEP 4: Output your preference of \"A\", \"SAME\" or \"B\" to the pairwise_choice field according to the Rating Rubric.\n",
        "STEP 5: Output your assessment reasoning in the explanation field.\n",
        "\n",
        "# User Inputs and AI-generated Responses\n",
        "## User Inputs\n",
        "### Prompt\n",
        "{prompt}\n",
        "\n",
        "# AI-generated Response\n",
        "\n",
        "### Response A\n",
        "{baseline_model_response}\n",
        "\n",
        "### Response B\n",
        "{response}\n",
        "\"\"\"\n",
        "\n",
        "\n",
        "class AnswerComparison(enum.Enum):\n",
        "  A = 'A'\n",
        "  SAME = 'SAME'\n",
        "  B = 'B'\n",
        "\n",
        "\n",
        "@functools.cache\n",
        "def eval_pairwise(prompt, response_a, response_b, n=1):\n",
        "  \"\"\"Determine the better of two answers to the same prompt.\"\"\"\n",
        "\n",
        "  chat = client.chats.create(model='gemini-2.0-flash')\n",
        "\n",
        "  # Generate the full text response.\n",
        "  response = chat.send_message(\n",
        "      message=QA_PAIRWISE_PROMPT.format(\n",
        "          prompt=[prompt, document_file],\n",
        "          baseline_model_response=response_a,\n",
        "          response=response_b)\n",
        "  )\n",
        "  verbose_eval = response.text\n",
        "\n",
        "  # Coerce into the desired structure.\n",
        "  structured_output_config = types.GenerateContentConfig(\n",
        "      response_mime_type=\"application/json\",\n",
        "      response_schema=AnswerComparison,\n",
        "  )\n",
        "  response = chat.send_message(\n",
        "      message=\"Convert the final score.\",\n",
        "      config=structured_output_config,\n",
        "  )\n",
        "  structured_eval = response.parsed\n",
        "\n",
        "  return verbose_eval, structured_eval\n",
        "\n",
        "\n",
        "question = questions[0]\n",
        "answer_a = answer_question(question, terse_guidance)\n",
        "answer_b = answer_question(question, cited_guidance)\n",
        "\n",
        "text_eval, struct_eval = eval_pairwise(\n",
        "    prompt=question,\n",
        "    response_a=answer_a,\n",
        "    response_b=answer_b,\n",
        ")\n",
        "\n",
        "display(Markdown(text_eval))\n",
        "print(struct_eval)"
      ],
      "metadata": {
        "id": "wArYTv5n1uIo",
        "trusted": true,
        "execution": {
          "iopub.status.busy": "2025-03-30T21:28:28.785615Z",
          "iopub.execute_input": "2025-03-30T21:28:28.786028Z",
          "iopub.status.idle": "2025-03-30T21:28:30.436098Z",
          "shell.execute_reply.started": "2025-03-30T21:28:28.786Z",
          "shell.execute_reply": "2025-03-30T21:28:30.434903Z"
        }
      },
      "outputs": [],
      "execution_count": null
    },
    {
      "cell_type": "markdown",
      "source": [
        "With a pair-wise evaluator in place, the only thing required to rank prompts against each other is a comparator.\n",
        "\n",
        "This example implements the minimal comparators required for total ordering (`==` and `<`) and performs the comparison using  `n_iterations` evaluations over the set of `questions`."
      ],
      "metadata": {
        "id": "O74EgXn4oiqn"
      }
    },
    {
      "cell_type": "code",
      "source": [
        "@functools.total_ordering\n",
        "class QAGuidancePrompt:\n",
        "  \"\"\"A question-answering guidance prompt or system instruction.\"\"\"\n",
        "\n",
        "  def __init__(self, prompt, questions, n_comparisons=NUM_ITERATIONS):\n",
        "    \"\"\"Create the prompt. Provide questions to evaluate against, and number of evals to perform.\"\"\"\n",
        "    self.prompt = prompt\n",
        "    self.questions = questions\n",
        "    self.n = n_comparisons\n",
        "\n",
        "  def __str__(self):\n",
        "    return self.prompt\n",
        "\n",
        "  def _compare_all(self, other):\n",
        "    \"\"\"Compare two prompts on all questions over n trials.\"\"\"\n",
        "    results = [self._compare_n(other, q) for q in questions]\n",
        "    mean = sum(results) / len(results)\n",
        "    return round(mean)\n",
        "\n",
        "  def _compare_n(self, other, question):\n",
        "    \"\"\"Compare two prompts on a question over n trials.\"\"\"\n",
        "    results = [self._compare(other, question, n) for n in range(self.n)]\n",
        "    mean = sum(results) / len(results)\n",
        "    return mean\n",
        "\n",
        "  def _compare(self, other, question, n=1):\n",
        "    \"\"\"Compare two prompts on a single question.\"\"\"\n",
        "    answer_a = answer_question(question, self.prompt)\n",
        "    answer_b = answer_question(question, other.prompt)\n",
        "\n",
        "    _, result = eval_pairwise(\n",
        "        prompt=question,\n",
        "        response_a=answer_a,\n",
        "        response_b=answer_b,\n",
        "        n=n,  # Cache buster\n",
        "    )\n",
        "    # print(f'q[{question}], a[{self.prompt[:20]}...], b[{other.prompt[:20]}...]: {result}')\n",
        "\n",
        "    # Convert the enum to the standard Python numeric comparison values.\n",
        "    if result is AnswerComparison.A:\n",
        "      return 1\n",
        "    elif result is AnswerComparison.B:\n",
        "      return -1\n",
        "    else:\n",
        "      return 0\n",
        "\n",
        "  def __eq__(self, other):\n",
        "    \"\"\"Equality check that performs pairwise evaluation.\"\"\"\n",
        "    if not isinstance(other, QAGuidancePrompt):\n",
        "      return NotImplemented\n",
        "\n",
        "    return self._compare_all(other) == 0\n",
        "\n",
        "  def __lt__(self, other):\n",
        "    \"\"\"Ordering check that performs pairwise evaluation.\"\"\"\n",
        "    if not isinstance(other, QAGuidancePrompt):\n",
        "      return NotImplemented\n",
        "\n",
        "    return self._compare_all(other) < 0\n"
      ],
      "metadata": {
        "id": "Sr1PnWkZ33Cu",
        "trusted": true,
        "execution": {
          "iopub.status.busy": "2025-03-30T21:28:38.351502Z",
          "iopub.execute_input": "2025-03-30T21:28:38.35192Z",
          "iopub.status.idle": "2025-03-30T21:28:38.361912Z",
          "shell.execute_reply.started": "2025-03-30T21:28:38.351893Z",
          "shell.execute_reply": "2025-03-30T21:28:38.360759Z"
        }
      },
      "outputs": [],
      "execution_count": null
    },
    {
      "cell_type": "markdown",
      "source": [
        "Now Python's sorting functions will \"just work\" on any `QAGuidancePrompt` instances. The `answer_question` and `eval_pairwise` functions are [memoized](https://en.wikipedia.org/wiki/Memoization) to avoid unnecessarily regenerating the same answers or evaluations, so you should see this complete quickly unless you have changed the questions, prompts or number of iterations from the earlier steps."
      ],
      "metadata": {
        "id": "N-T7gpxy6cCI"
      }
    },
    {
      "cell_type": "code",
      "source": [
        "terse_prompt = QAGuidancePrompt(terse_guidance, questions)\n",
        "moderate_prompt = QAGuidancePrompt(moderate_guidance, questions)\n",
        "cited_prompt = QAGuidancePrompt(cited_guidance, questions)\n",
        "\n",
        "# Sort in reverse order, so that best is first\n",
        "sorted_results = sorted([terse_prompt, moderate_prompt, cited_prompt], reverse=True)\n",
        "for i, p in enumerate(sorted_results):\n",
        "  if i:\n",
        "    print('---')\n",
        "\n",
        "  print(f'#{i+1}: {p}')"
      ],
      "metadata": {
        "id": "DAT1wp--sOfS",
        "trusted": true,
        "execution": {
          "iopub.status.busy": "2025-03-30T21:28:46.083359Z",
          "iopub.execute_input": "2025-03-30T21:28:46.083779Z",
          "iopub.status.idle": "2025-03-30T21:28:57.427847Z",
          "shell.execute_reply.started": "2025-03-30T21:28:46.083749Z",
          "shell.execute_reply": "2025-03-30T21:28:57.426818Z"
        }
      },
      "outputs": [],
      "execution_count": null
    },
    {
      "cell_type": "markdown",
      "source": [
        "## Challenges\n",
        "\n",
        "### LLM limitations\n",
        "\n",
        "LLMs are known to have problems on certain tasks, and these challenges still persist when using LLMs as evaluators. For example, LLMs can struggle to count the number of characters in a word (this is a numerical problem, not a language problem), so an LLM evaluator will not be able to accurately evaluate this type of task. There are solutions available in some cases, such as connecting tools to handle problems unsuitable to a language model, but it's important that you understand possible limitations and include human evaluators to calibrate your evaluation system and determine a baseline.\n",
        "\n",
        "One reason that LLM evaluators work well is that all of the information they need is available in the input context, so the model only needs to attend to that information to produce the result. When customising evaluation prompts, or building your own systems, keep this in mind and ensure that you are not relying on \"internal knowledge\" from the model, or behaviour that might be better provided from a tool.\n",
        "\n",
        "### Improving confidence\n",
        "\n",
        "One way to improve the confidence of your evaluations is to include a diverse set of evaluators. That is, use the same prompts and outputs, but execute them on different models, like Gemini Flash and Pro, or even across different providers, like Gemini, Claude, ChatGPT and local models like Gemma or Qwen. This follows the same idea used earlier, where repeating trials to gather multiple \"opinions\" helps to [reduce error](https://en.wikipedia.org/wiki/Law_of_large_numbers), except by using different models the \"opinions\" will be more diverse.\n",
        "\n",
        "\n",
        "## Learn more\n",
        "\n",
        "To learn more about evaluation systems, check out [this guide](https://cloud.google.com/blog/products/ai-machine-learning/enhancing-llm-quality-and-interpretability-with-the-vertex-gen-ai-evaluation-service?e=48754805) focusing on evaluation using Google Cloud's Gen AI Evaluation Service.\n",
        "\n",
        "And be sure to read the **bonus whitepaper** on [Evaluating Large Language Models](https://services.google.com/fh/files/blogs/neurips_evaluation.pdf).\n",
        "\n",
        "*- [Mark McD](https://linktr.ee/markmcd)*"
      ],
      "metadata": {
        "id": "xfphETryZqdo"
      }
    }
  ]
}